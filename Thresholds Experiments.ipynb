{
 "cells": [
  {
   "cell_type": "code",
   "execution_count": 1,
   "metadata": {},
   "outputs": [],
   "source": [
    "import numpy as np, matplotlib.pyplot as plt, cv2, tqdm\n",
    "%matplotlib inline\n",
    "\n",
    "from importlib import reload\n",
    "\n",
    "from utils import saveVideo, show, drawShape\n",
    "import colorTools as ct, utils\n",
    "\n",
    "import laneFindingPipeline"
   ]
  },
  {
   "cell_type": "code",
   "execution_count": 2,
   "metadata": {},
   "outputs": [
    {
     "data": {
      "application/vnd.jupyter.widget-view+json": {
       "model_id": "766f26270eb74e65a627d4317877163e",
       "version_major": 2,
       "version_minor": 0
      },
      "text/plain": [
       "A Jupyter Widget"
      ]
     },
     "metadata": {},
     "output_type": "display_data"
    },
    {
     "name": "stdout",
     "output_type": "stream",
     "text": [
      "\n"
     ]
    }
   ],
   "source": [
    "undistort = laneFindingPipeline.Undistorter()\n",
    "undistort.fit()"
   ]
  },
  {
   "cell_type": "code",
   "execution_count": 3,
   "metadata": {},
   "outputs": [
    {
     "data": {
      "application/vnd.jupyter.widget-view+json": {
       "model_id": "da07331baeca4b25b3ed873961302301",
       "version_major": 2,
       "version_minor": 0
      },
      "text/plain": [
       "A Jupyter Widget"
      ]
     },
     "metadata": {},
     "output_type": "display_data"
    },
    {
     "name": "stdout",
     "output_type": "stream",
     "text": [
      "\n"
     ]
    },
    {
     "data": {
      "application/vnd.jupyter.widget-view+json": {
       "model_id": "8f90bb6ea45b49778e20bede88b4866a",
       "version_major": 2,
       "version_minor": 0
      },
      "text/plain": [
       "A Jupyter Widget"
      ]
     },
     "metadata": {},
     "output_type": "display_data"
    },
    {
     "name": "stdout",
     "output_type": "stream",
     "text": [
      "\n"
     ]
    },
    {
     "data": {
      "application/vnd.jupyter.widget-view+json": {
       "model_id": "d16a2fb5900c441595cabad347ced5fd",
       "version_major": 2,
       "version_minor": 0
      },
      "text/plain": [
       "A Jupyter Widget"
      ]
     },
     "metadata": {},
     "output_type": "display_data"
    },
    {
     "name": "stdout",
     "output_type": "stream",
     "text": [
      "\n"
     ]
    }
   ],
   "source": [
    "import skvideo.io\n",
    "\n",
    "videoPrefices = ('project', 'challenge', 'harder_challenge')\n",
    "allFrames = {}\n",
    "for videoPrefix in videoPrefices:\n",
    "    fpath = '%s_video.mp4' % videoPrefix\n",
    "    reader = skvideo.io.FFmpegReader(fpath)\n",
    "    frames = []\n",
    "    for f in tqdm.tqdm_notebook(\n",
    "        reader.nextFrame(), \n",
    "        total=reader.inputframenum,\n",
    "        desc='load %s' % videoPrefix,\n",
    "    ):\n",
    "        frames.append(f)\n",
    "    allFrames[videoPrefix] = frames"
   ]
  },
  {
   "cell_type": "markdown",
   "metadata": {},
   "source": [
    "\n",
    "Which frames are problems?"
   ]
  },
  {
   "cell_type": "code",
   "execution_count": 4,
   "metadata": {},
   "outputs": [],
   "source": [
    "colorFilter = laneFindingPipeline.ColorFilter()\n",
    "perspective = laneFindingPipeline.PerspectiveTransformer()"
   ]
  },
  {
   "cell_type": "code",
   "execution_count": 6,
   "metadata": {},
   "outputs": [
    {
     "data": {
      "image/png": "[encoded data removed]",
      "text/plain": [
       "<matplotlib.figure.Figure at 0x7f5479243860>"
      ]
     },
     "metadata": {},
     "output_type": "display_data"
    }
   ],
   "source": [
    "ieasy = 68\n",
    "easyFrame = allFrames['project'][ieasy]\n",
    "ihard = 1041\n",
    "hardFrame = allFrames['project'][ihard]\n",
    "def get_s(frame, eq=True):\n",
    "    img = perspective(undistort(frame))\n",
    "    img = cv2.GaussianBlur(img, (5, 5), 0)\n",
    "    if eq:\n",
    "        img = ct.equalizeHist(img)\n",
    "\n",
    "    hls = cv2.cvtColor(img, cv2.COLOR_RGB2HLS)\n",
    "    return hls[:, :, 2]\n",
    "method = 'HL[S](eq)'\n",
    "#utils.show(hardFrame);\n",
    "fig, (ax, bx) = plt.subplots(ncols=2)\n",
    "utils.show(get_s(easyFrame) > 250, ax=ax, title='frame %d' % ieasy);\n",
    "utils.show(get_s(hardFrame) > 254, ax=bx, title='frame %d' % ihard);"
   ]
  },
  {
   "cell_type": "code",
   "execution_count": 8,
   "metadata": {},
   "outputs": [
    {
     "name": "stdout",
     "output_type": "stream",
     "text": [
      "250 --> 12484\n",
      "255 --> 0\n"
     ]
    }
   ],
   "source": [
    "countSeekingThreshold = ct.CountSeekingThreshold()\n",
    "for frame in easyFrame, hardFrame:\n",
    "    mask, thresh = countSeekingThreshold(get_s(frame))\n",
    "    print(thresh, '-->', mask.sum())"
   ]
  },
  {
   "cell_type": "markdown",
   "metadata": {},
   "source": [
    "# Prototype a thresholding pipeline."
   ]
  },
  {
   "cell_type": "code",
   "execution_count": null,
   "metadata": {
    "scrolled": false
   },
   "outputs": [
    {
     "data": {
      "application/vnd.jupyter.widget-view+json": {
       "model_id": "dcd32a09969f4ac6a7a7ef96b9d7f92c",
       "version_major": 2,
       "version_minor": 0
      },
      "text/plain": [
       "A Jupyter Widget"
      ]
     },
     "metadata": {},
     "output_type": "display_data"
    }
   ],
   "source": [
    "reload(laneFindingPipeline)\n",
    "reload(ct)\n",
    "\n",
    "try:\n",
    "    'project' in vids\n",
    "except NameError:\n",
    "    vids = {}\n",
    "    \n",
    "colorFilter = laneFindingPipeline.ColorFilter()\n",
    "\n",
    "for videoPrefix in ('project', 'challenge', 'harder_challenge',):\n",
    "# for videoPrefix in ('harder_challenge',):\n",
    "    \n",
    "    fig, rows = plt.subplots(nrows=5, ncols=5)\n",
    "    axes = []\n",
    "    for row in rows: axes.extend(row)\n",
    "        \n",
    "    frames = allFrames[videoPrefix]\n",
    "    lo, hi = dict(\n",
    "        #project=(980, 1050),\n",
    "        project=(980, 1000),\n",
    "        #challenge=(102, 164),\n",
    "        challenge=(133, 164),\n",
    "        #harder_challenge=(100, 200),\n",
    "        harder_challenge=(169, 200),\n",
    "    )[videoPrefix]\n",
    "    frameIndices = list(range(len(frames)))[lo:hi]\n",
    "    \n",
    "    laneFinder = laneFindingPipeline.LaneFinder(undistort)\n",
    "\n",
    "    def yieldFrames(blurK=71):\n",
    "        for i in frameIndices:\n",
    "            \n",
    "            # Make a statful image-showing function.\n",
    "            iaxes = iter(axes)\n",
    "            color = 'black'\n",
    "            def show(item, title=None, kind='permissive'):\n",
    "                if len(set(item.ravel())) == 2 and kind == 'permissive':\n",
    "                    kind = 'mask'\n",
    "                import matplotlib.cm\n",
    "                from matplotlib.colors import LinearSegmentedColormap\n",
    "                kind = dict(\n",
    "                    permissive='viridis',\n",
    "                    restrictive='plasma',\n",
    "                    mask='binary_r',\n",
    "                    pton=LinearSegmentedColormap.from_list(\n",
    "                        'Princeton', [(0,0,0), (232/255, 119/255, 34/255)], N=2\n",
    "                    )\n",
    "                ).get(kind, kind)\n",
    "                cmap = matplotlib.cm.get_cmap(kind)\n",
    "                ax = iaxes.__next__()\n",
    "                ax.imshow(item, cmap=cmap)\n",
    "                ax.set_xticks([]); ax.set_yticks([])\n",
    "                if title is not None:\n",
    "                    ax.set_title(title, fontsize=8, color=color)\n",
    "                    \n",
    "            # Define sobelclip as a subgraph of the ... computational graph\n",
    "            # we're assembling.\n",
    "            def sobelclip(channel):\n",
    "                # Adaptive thresholding of color.\n",
    "                tmask, thresh = countSeekingThreshold(channel)\n",
    "\n",
    "                # Dilated masks of the threshold.\n",
    "                narrow = ct.dilate(tmask, ksize=10, iterations=5)\n",
    "                wide = ct.dilate(narrow, ksize=10, iterations=5)\n",
    "                \n",
    "                # Restricted Sobel-X\n",
    "                toSobel = np.copy(channel)\n",
    "                toSobel[np.logical_not(wide)] = 0\n",
    "                \n",
    "                sobel = colorFilter.dilateSobel(toSobel)\n",
    "                clippedSobel = sobel & narrow\n",
    "                \n",
    "                return tmask, thresh, narrow, wide, toSobel, sobel, clippedSobel\n",
    "            \n",
    "            # Do basic transforms.\n",
    "            frame = frames[i]\n",
    "            warped = perspective(undistort(frame))\n",
    "            blurred = ct.blur(warped)\n",
    "            show(frame, 'frame %d' % i)\n",
    "            show(warped)\n",
    "            show(blurred, 'blurred')\n",
    "            \n",
    "            # Get channels.\n",
    "            gray = cv2.cvtColor(blurred, cv2.COLOR_RGB2GRAY)\n",
    "            hls = cv2.cvtColor(blurred, cv2.COLOR_RGB2HLS)\n",
    "            eq = ct.equalizeHist(blurred)\n",
    "            l_channel = hls[:, :, 1]\n",
    "            s_channel = hls[:, :, 2]\n",
    "            hlseq = cv2.cvtColor(eq, cv2.COLOR_RGB2HLS)\n",
    "            bseq_channel = ct.blur(hlseq[:, :, 2], blurK)\n",
    "            lab = cv2.cvtColor(eq, cv2.COLOR_RGB2LAB)\n",
    "            labaeq_channel = lab[:, :, 1]\n",
    "            blabbeq_channel = ct.blur(lab[:, :, 2], blurK)\n",
    "            \n",
    "            show(gray, 'gray', kind='Greys_r')\n",
    "            show(eq, 'equalized histogram')\n",
    "            show(s_channel, r's_channel')\n",
    "            show(l_channel, r'l_channel')\n",
    "            show(bseq_channel, 'blur(seq_channel, %d)' % blurK)\n",
    "            #show(leq_channel, 'leq_channel')\n",
    "            #show(labaeq_channel, 'labaeq_channel')\n",
    "            show(blabbeq_channel, 'blur(labbeq_channel, %d)' % blurK)\n",
    "            show(countSeekingThreshold(bseq_channel)[0], 'blur(seq_channel, %d)' % blurK)\n",
    "            \n",
    "            \n",
    "            # Clipped dilated Sobel on the S channel.\n",
    "            color = 'green'\n",
    "            tmask, thresh, narrow, wide, toSobel, sobel, clippedSobel = sobelclip(s_channel)\n",
    "            show(tmask, r's thresh (>%d, %d px) $\\longmapsto$' % (thresh, tmask.sum()))\n",
    "            show(narrow, 'narrow dilated s thresh $\\longmapsto$')\n",
    "            show(wide, 'wide dilated s thresh $\\longmapsto$')\n",
    "            show(toSobel, 'wide-clipped s_channel $\\longmapsto$')\n",
    "            show(sobel, 'sobel = fxd(wide-clipped s_channel) $\\longmapsto$')\n",
    "            show(clippedSobel, 'clippedSobel = narrow-clipped sobel')\n",
    "\n",
    "            \n",
    "            # Adaptive thresholding of brighter color.\n",
    "            color = 'red'\n",
    "            labbeqmask, labbeqthresh = countSeekingThreshold(blabbeq_channel)\n",
    "            labbeqmask = ct.dilate(labbeqmask)\n",
    "            S = clippedSobel & labbeqmask# & shadowMask\n",
    "            show(labbeqmask, r'dilate(blur(labbeq) thresh (>%d, %d px)) $\\longmapsto$' % (labbeqthresh, labbeqmask.sum()))\n",
    "            show(S, 'S = clippedSobel & labbeqmask', kind='restrictive')\n",
    "\n",
    "\n",
    "            # Clipped dilated Sobel on the L channel.\n",
    "            color = 'blue'\n",
    "            _, _, _, _, toSobelL, _, clippedSobelL = sobelclip(l_channel)\n",
    "            show(toSobelL, 'wide-clipped l_channel $\\longmapsto\\ldots\\longmapsto$')\n",
    "            L = clippedSobelL# & shadowMask\n",
    "            L = ct.dilate(L)\n",
    "            show(L, 'L = dilate(fxd(clipped sobel l))', kind='restrictive')\n",
    "            \n",
    "            \n",
    "            # Finally combine strands with OR.\n",
    "            Y = S | L\n",
    "            color = 'black'\n",
    "            show(Y, 'Y = S | L', kind='pton')\n",
    "            \n",
    "            \n",
    "            # Show regression results on these color thresholds.\n",
    "            laneFinder.update(Y)\n",
    "            drawn = laneFinder.draw(frame, call=False, showCentroids=False, showCurves=False, showTrapezoid=False)\n",
    "            show(drawn, 'composite')\n",
    "            \n",
    "            \n",
    "            # Save the combined figure to the video.\n",
    "            for ax in axes:\n",
    "                ax.set_xticks([])\n",
    "                ax.set_yticks([])\n",
    "                ax.set_frame_on(False)\n",
    "            fig.subplots_adjust(bottom=0, left=0, right=1, top=.95, wspace=.01, hspace=.18)\n",
    "            yield utils.fig2img(fig)\n",
    "            for ax in axes: ax.cla()\n",
    "                \n",
    "    \n",
    "    vid = utils.saveVideo(\n",
    "        yieldFrames(), 'thresholdSearch-%s.mp4' % videoPrefix, \n",
    "        total=len(frameIndices), desc=videoPrefix)\n",
    "    fig.clf()\n",
    "    vids[videoPrefix] = vid\n",
    "    "
   ]
  },
  {
   "cell_type": "markdown",
   "metadata": {},
   "source": [
    "A rule seems to be emerging--build the filter in layers, with early layers being permissive and later ones being restrictive. A network of layers, you might say. With decision nodes in each layer--almost like \"neurons\" of some sort."
   ]
  },
  {
   "cell_type": "code",
   "execution_count": null,
   "metadata": {},
   "outputs": [],
   "source": [
    "# import time\n",
    "# time.sleep(4)\n",
    "\n",
    "# vids['project']\n",
    "\n",
    "# vids['challenge']\n",
    "\n",
    "# vids['harder_challenge']"
   ]
  },
  {
   "cell_type": "markdown",
   "metadata": {},
   "source": [
    "# Show result."
   ]
  },
  {
   "cell_type": "code",
   "execution_count": null,
   "metadata": {
    "scrolled": false
   },
   "outputs": [],
   "source": [
    "reload(laneFindingPipeline)\n",
    "laneFinder = laneFindingPipeline.LaneFinder(undistort)\n",
    "laneFinder.colorFilter.dilate_kernel = colorFilter.dilate_kernel\n",
    "utils.show(laneFinder.draw(frame, showTrapezoid=True, showLane=True, showCentroids=False, insetBEV=True, showCurves=False));\n",
    "\n",
    "# fig, ax = plt.subplots(figsize=(9, 16))\n",
    "# laneFinder.show(frame, axes=[ax]);"
   ]
  }
 ],
 "metadata": {
  "kernelspec": {
   "display_name": "Python 3",
   "language": "python",
   "name": "python3"
  },
  "language_info": {
   "codemirror_mode": {
    "name": "ipython",
    "version": 3
   },
   "file_extension": ".py",
   "mimetype": "text/x-python",
   "name": "python",
   "nbconvert_exporter": "python",
   "pygments_lexer": "ipython3",
   "version": "3.5.2"
  }
 },
 "nbformat": 4,
 "nbformat_minor": 2
}
