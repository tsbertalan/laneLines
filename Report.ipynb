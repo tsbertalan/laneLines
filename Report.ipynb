{
 "cells": [
  {
   "cell_type": "code",
   "execution_count": 1,
   "metadata": {},
   "outputs": [],
   "source": [
    "import cvflow as cf\n",
    "import laneFindingPipeline\n",
    "%matplotlib inline"
   ]
  },
  {
   "cell_type": "code",
   "execution_count": 2,
   "metadata": {},
   "outputs": [
    {
     "data": {
      "application/vnd.jupyter.widget-view+json": {
       "model_id": "6a16dbfb1d504042a2026409b3baa2bc",
       "version_major": 2,
       "version_minor": 0
      },
      "text/html": [
       "<p>Failed to display Jupyter Widget of type <code>HBox</code>.</p>\n",
       "<p>\n",
       "  If you're reading this message in Jupyter Notebook or JupyterLab, it may mean\n",
       "  that the widgets JavaScript is still loading. If this message persists, it\n",
       "  likely means that the widgets JavaScript library is either not installed or\n",
       "  not enabled. See the <a href=\"https://ipywidgets.readthedocs.io/en/stable/user_install.html\">Jupyter\n",
       "  Widgets Documentation</a> for setup instructions.\n",
       "</p>\n",
       "<p>\n",
       "  If you're reading this message in another notebook frontend (for example, a static\n",
       "  rendering on GitHub or <a href=\"https://nbviewer.jupyter.org/\">NBViewer</a>),\n",
       "  it may mean that your frontend doesn't currently support widgets.\n",
       "</p>\n"
      ],
      "text/plain": [
       "HBox(children=(IntProgress(value=0, description='load project: ', max=32), HTML(value='')))"
      ]
     },
     "metadata": {},
     "output_type": "display_data"
    },
    {
     "data": {
      "application/vnd.jupyter.widget-view+json": {
       "model_id": "6d69de94c57346f4982cda829a65ef95",
       "version_major": 2,
       "version_minor": 0
      },
      "text/html": [
       "<p>Failed to display Jupyter Widget of type <code>HBox</code>.</p>\n",
       "<p>\n",
       "  If you're reading this message in Jupyter Notebook or JupyterLab, it may mean\n",
       "  that the widgets JavaScript is still loading. If this message persists, it\n",
       "  likely means that the widgets JavaScript library is either not installed or\n",
       "  not enabled. See the <a href=\"https://ipywidgets.readthedocs.io/en/stable/user_install.html\">Jupyter\n",
       "  Widgets Documentation</a> for setup instructions.\n",
       "</p>\n",
       "<p>\n",
       "  If you're reading this message in another notebook frontend (for example, a static\n",
       "  rendering on GitHub or <a href=\"https://nbviewer.jupyter.org/\">NBViewer</a>),\n",
       "  it may mean that your frontend doesn't currently support widgets.\n",
       "</p>\n"
      ],
      "text/plain": [
       "HBox(children=(IntProgress(value=0, description='load challenge: ', max=32), HTML(value='')))"
      ]
     },
     "metadata": {},
     "output_type": "display_data"
    },
    {
     "name": "stdout",
     "output_type": "stream",
     "text": [
      "\n"
     ]
    },
    {
     "data": {
      "application/vnd.jupyter.widget-view+json": {
       "model_id": "a19a874e169d4281ac662b2f89ba4f66",
       "version_major": 2,
       "version_minor": 0
      },
      "text/html": [
       "<p>Failed to display Jupyter Widget of type <code>HBox</code>.</p>\n",
       "<p>\n",
       "  If you're reading this message in Jupyter Notebook or JupyterLab, it may mean\n",
       "  that the widgets JavaScript is still loading. If this message persists, it\n",
       "  likely means that the widgets JavaScript library is either not installed or\n",
       "  not enabled. See the <a href=\"https://ipywidgets.readthedocs.io/en/stable/user_install.html\">Jupyter\n",
       "  Widgets Documentation</a> for setup instructions.\n",
       "</p>\n",
       "<p>\n",
       "  If you're reading this message in another notebook frontend (for example, a static\n",
       "  rendering on GitHub or <a href=\"https://nbviewer.jupyter.org/\">NBViewer</a>),\n",
       "  it may mean that your frontend doesn't currently support widgets.\n",
       "</p>\n"
      ],
      "text/plain": [
       "HBox(children=(IntProgress(value=0, description='load harder_challenge: ', max=32), HTML(value='')))"
      ]
     },
     "metadata": {},
     "output_type": "display_data"
    },
    {
     "name": "stdout",
     "output_type": "stream",
     "text": [
      "\n",
      "\n"
     ]
    }
   ],
   "source": [
    "allFrames = laneFindingPipeline.utils.loadFrames(maxFrames=32)"
   ]
  },
  {
   "cell_type": "code",
   "execution_count": 3,
   "metadata": {},
   "outputs": [],
   "source": [
    "frame = allFrames['project'][-1]"
   ]
  },
  {
   "cell_type": "markdown",
   "metadata": {},
   "source": [
    "# Development of a pipeline for identifying lane-marking pixels"
   ]
  },
  {
   "cell_type": "markdown",
   "metadata": {},
   "source": [
    "## A simple pipeline"
   ]
  },
  {
   "cell_type": "code",
   "execution_count": 8,
   "metadata": {},
   "outputs": [
    {
     "data": {
      "application/vnd.jupyter.widget-view+json": {
       "model_id": "fb85c61cc3f6489c9e062439aa9c5047",
       "version_major": 2,
       "version_minor": 0
      },
      "text/html": [
       "<p>Failed to display Jupyter Widget of type <code>HBox</code>.</p>\n",
       "<p>\n",
       "  If you're reading this message in Jupyter Notebook or JupyterLab, it may mean\n",
       "  that the widgets JavaScript is still loading. If this message persists, it\n",
       "  likely means that the widgets JavaScript library is either not installed or\n",
       "  not enabled. See the <a href=\"https://ipywidgets.readthedocs.io/en/stable/user_install.html\">Jupyter\n",
       "  Widgets Documentation</a> for setup instructions.\n",
       "</p>\n",
       "<p>\n",
       "  If you're reading this message in another notebook frontend (for example, a static\n",
       "  rendering on GitHub or <a href=\"https://nbviewer.jupyter.org/\">NBViewer</a>),\n",
       "  it may mean that your frontend doesn't currently support widgets.\n",
       "</p>\n"
      ],
      "text/plain": [
       "HBox(children=(IntProgress(value=0, description='cal. undistort: ', max=20), HTML(value='')))"
      ]
     },
     "metadata": {},
     "output_type": "display_data"
    },
    {
     "name": "stdout",
     "output_type": "stream",
     "text": [
      "\n"
     ]
    },
    {
     "data": {
      "image/svg+xml": [
       "<?xml version=\"1.0\" encoding=\"UTF-8\" standalone=\"no\"?>\n",
       "<!DOCTYPE svg PUBLIC \"-//W3C//DTD SVG 1.1//EN\"\n",
       " \"http://www.w3.org/Graphics/SVG/1.1/DTD/svg11.dtd\">\n",
       "<!-- Generated by graphviz version 2.38.0 (20140413.2041)\n",
       " -->\n",
       "<!-- Title: cluster SimplePipeline Pages: 1 -->\n",
       "<svg width=\"588pt\" height=\"548pt\"\n",
       " viewBox=\"0.00 0.00 588.00 548.00\" xmlns=\"http://www.w3.org/2000/svg\" xmlns:xlink=\"http://www.w3.org/1999/xlink\">\n",
       "<g id=\"graph0\" class=\"graph\" transform=\"scale(1 1) rotate(0) translate(4 544)\">\n",
       "<title>cluster SimplePipeline</title>\n",
       "<polygon fill=\"white\" stroke=\"none\" points=\"-4,4 -4,-544 584,-544 584,4 -4,4\"/>\n",
       "<!-- 139650823108704Perspective -->\n",
       "<g id=\"node1\" class=\"node\"><title>139650823108704Perspective</title>\n",
       "<polygon fill=\"none\" stroke=\"black\" points=\"276,-396 201,-396 197,-392 197,-360 272,-360 276,-364 276,-396\"/>\n",
       "<polyline fill=\"none\" stroke=\"black\" points=\"272,-392 197,-392 \"/>\n",
       "<polyline fill=\"none\" stroke=\"black\" points=\"272,-392 272,-360 \"/>\n",
       "<polyline fill=\"none\" stroke=\"black\" points=\"272,-392 276,-396 \"/>\n",
       "<text text-anchor=\"middle\" x=\"236.5\" y=\"-374.3\" font-family=\"Times,serif\" font-size=\"14.00\">Perspective</text>\n",
       "</g>\n",
       "<!-- 1396512719188725x5Gaussianblur -->\n",
       "<g id=\"node2\" class=\"node\"><title>1396512719188725x5Gaussianblur</title>\n",
       "<polygon fill=\"none\" stroke=\"black\" points=\"294.5,-324 182.5,-324 178.5,-320 178.5,-288 290.5,-288 294.5,-292 294.5,-324\"/>\n",
       "<polyline fill=\"none\" stroke=\"black\" points=\"290.5,-320 178.5,-320 \"/>\n",
       "<polyline fill=\"none\" stroke=\"black\" points=\"290.5,-320 290.5,-288 \"/>\n",
       "<polyline fill=\"none\" stroke=\"black\" points=\"290.5,-320 294.5,-324 \"/>\n",
       "<text text-anchor=\"middle\" x=\"236.5\" y=\"-302.3\" font-family=\"Times,serif\" font-size=\"14.00\">5x5 Gaussian blur</text>\n",
       "</g>\n",
       "<!-- 139650823108704Perspective&#45;&gt;1396512719188725x5Gaussianblur -->\n",
       "<g id=\"edge1\" class=\"edge\"><title>139650823108704Perspective&#45;&gt;1396512719188725x5Gaussianblur</title>\n",
       "<path fill=\"none\" stroke=\"black\" d=\"M236.5,-359.697C236.5,-351.983 236.5,-342.712 236.5,-334.112\"/>\n",
       "<polygon fill=\"black\" stroke=\"black\" points=\"240,-334.104 236.5,-324.104 233,-334.104 240,-334.104\"/>\n",
       "</g>\n",
       "<!-- 139651271920944RGBtoHLS -->\n",
       "<g id=\"node9\" class=\"node\"><title>139651271920944RGBtoHLS</title>\n",
       "<polygon fill=\"none\" stroke=\"black\" points=\"280.5,-252 196.5,-252 192.5,-248 192.5,-216 276.5,-216 280.5,-220 280.5,-252\"/>\n",
       "<polyline fill=\"none\" stroke=\"black\" points=\"276.5,-248 192.5,-248 \"/>\n",
       "<polyline fill=\"none\" stroke=\"black\" points=\"276.5,-248 276.5,-216 \"/>\n",
       "<polyline fill=\"none\" stroke=\"black\" points=\"276.5,-248 280.5,-252 \"/>\n",
       "<text text-anchor=\"middle\" x=\"236.5\" y=\"-230.3\" font-family=\"Times,serif\" font-size=\"14.00\">RGB to HLS</text>\n",
       "</g>\n",
       "<!-- 1396512719188725x5Gaussianblur&#45;&gt;139651271920944RGBtoHLS -->\n",
       "<g id=\"edge6\" class=\"edge\"><title>1396512719188725x5Gaussianblur&#45;&gt;139651271920944RGBtoHLS</title>\n",
       "<path fill=\"none\" stroke=\"black\" d=\"M236.5,-287.697C236.5,-279.983 236.5,-270.712 236.5,-262.112\"/>\n",
       "<polygon fill=\"black\" stroke=\"black\" points=\"240,-262.104 236.5,-252.104 233,-262.104 240,-262.104\"/>\n",
       "</g>\n",
       "<!-- 139651271946368Threshs.t.count=10000(curr=150) -->\n",
       "<g id=\"node3\" class=\"node\"><title>139651271946368Threshs.t.count=10000(curr=150)</title>\n",
       "<polygon fill=\"none\" stroke=\"gray\" points=\"281,-108 0,-108 0,-72 281,-72 281,-108\"/>\n",
       "<text text-anchor=\"middle\" x=\"140.5\" y=\"-86.3\" font-family=\"italic\" font-size=\"14.00\">Thresh s.t. count=10000 (curr=150)</text>\n",
       "</g>\n",
       "<!-- 139651271949112| -->\n",
       "<g id=\"node4\" class=\"node\"><title>139651271949112|</title>\n",
       "<polygon fill=\"none\" stroke=\"gray\" stroke-dasharray=\"5,2\" points=\"305,-36 74,-36 74,-0 305,-0 305,-36\"/>\n",
       "<text text-anchor=\"middle\" x=\"189.5\" y=\"-14.3\" font-family=\"italic\" font-size=\"14.00\">Output from SimplePipeline: |</text>\n",
       "</g>\n",
       "<!-- 139651271946368Threshs.t.count=10000(curr=150)&#45;&gt;139651271949112| -->\n",
       "<g id=\"edge2\" class=\"edge\"><title>139651271946368Threshs.t.count=10000(curr=150)&#45;&gt;139651271949112|</title>\n",
       "<path fill=\"none\" stroke=\"black\" d=\"M152.612,-71.6966C158.368,-63.4741 165.362,-53.4832 171.706,-44.4207\"/>\n",
       "<polygon fill=\"black\" stroke=\"black\" points=\"174.66,-46.3038 177.527,-36.1043 168.925,-42.2895 174.66,-46.3038\"/>\n",
       "</g>\n",
       "<!-- 139651271947768ColorJoin -->\n",
       "<g id=\"node5\" class=\"node\"><title>139651271947768ColorJoin</title>\n",
       "<polygon fill=\"none\" stroke=\"black\" points=\"481,-36 352,-36 348,-32 348,-0 477,-0 481,-4 481,-36\"/>\n",
       "<polyline fill=\"none\" stroke=\"black\" points=\"477,-32 348,-32 \"/>\n",
       "<polyline fill=\"none\" stroke=\"black\" points=\"477,-32 477,-0 \"/>\n",
       "<polyline fill=\"none\" stroke=\"black\" points=\"477,-32 481,-36 \"/>\n",
       "<text text-anchor=\"middle\" x=\"414.5\" y=\"-14.3\" font-family=\"Times,serif\" font-size=\"14.00\">Color pipeline output</text>\n",
       "</g>\n",
       "<!-- 139651271946368Threshs.t.count=10000(curr=150)&#45;&gt;139651271947768ColorJoin -->\n",
       "<g id=\"edge3\" class=\"edge\"><title>139651271946368Threshs.t.count=10000(curr=150)&#45;&gt;139651271947768ColorJoin</title>\n",
       "<path fill=\"none\" stroke=\"black\" d=\"M207.178,-71.9656C246.773,-61.8499 297.121,-48.9872 338.286,-38.4708\"/>\n",
       "<polygon fill=\"black\" stroke=\"black\" points=\"339.176,-41.8558 347.999,-35.9894 337.444,-35.0736 339.176,-41.8558\"/>\n",
       "</g>\n",
       "<!-- 139651271718560 -->\n",
       "<g id=\"node6\" class=\"node\"><title>139651271718560</title>\n",
       "<polygon fill=\"none\" stroke=\"black\" points=\"350.5,-540 126.5,-540 122.5,-536 122.5,-504 346.5,-504 350.5,-508 350.5,-540\"/>\n",
       "<polyline fill=\"none\" stroke=\"black\" points=\"346.5,-536 122.5,-536 \"/>\n",
       "<polyline fill=\"none\" stroke=\"black\" points=\"346.5,-536 346.5,-504 \"/>\n",
       "<polyline fill=\"none\" stroke=\"black\" points=\"346.5,-536 350.5,-540 \"/>\n",
       "<text text-anchor=\"middle\" x=\"236.5\" y=\"-518.3\" font-family=\"Times,serif\" font-size=\"14.00\">Input to SimplePipeline (ColorImage).</text>\n",
       "</g>\n",
       "<!-- 139651271718728Undistort -->\n",
       "<g id=\"node7\" class=\"node\"><title>139651271718728Undistort</title>\n",
       "<polygon fill=\"none\" stroke=\"black\" points=\"270.5,-468 206.5,-468 202.5,-464 202.5,-432 266.5,-432 270.5,-436 270.5,-468\"/>\n",
       "<polyline fill=\"none\" stroke=\"black\" points=\"266.5,-464 202.5,-464 \"/>\n",
       "<polyline fill=\"none\" stroke=\"black\" points=\"266.5,-464 266.5,-432 \"/>\n",
       "<polyline fill=\"none\" stroke=\"black\" points=\"266.5,-464 270.5,-468 \"/>\n",
       "<text text-anchor=\"middle\" x=\"236.5\" y=\"-446.3\" font-family=\"Times,serif\" font-size=\"14.00\">Undistort</text>\n",
       "</g>\n",
       "<!-- 139651271718560&#45;&gt;139651271718728Undistort -->\n",
       "<g id=\"edge4\" class=\"edge\"><title>139651271718560&#45;&gt;139651271718728Undistort</title>\n",
       "<path fill=\"none\" stroke=\"black\" d=\"M236.5,-503.697C236.5,-495.983 236.5,-486.712 236.5,-478.112\"/>\n",
       "<polygon fill=\"black\" stroke=\"black\" points=\"240,-478.104 236.5,-468.104 233,-478.104 240,-478.104\"/>\n",
       "</g>\n",
       "<!-- 139651271718728Undistort&#45;&gt;139650823108704Perspective -->\n",
       "<g id=\"edge9\" class=\"edge\"><title>139651271718728Undistort&#45;&gt;139650823108704Perspective</title>\n",
       "<path fill=\"none\" stroke=\"black\" d=\"M236.5,-431.697C236.5,-423.983 236.5,-414.712 236.5,-406.112\"/>\n",
       "<polygon fill=\"black\" stroke=\"black\" points=\"240,-406.104 236.5,-396.104 233,-406.104 240,-406.104\"/>\n",
       "</g>\n",
       "<!-- 139650215082696Schannel -->\n",
       "<g id=\"node8\" class=\"node\"><title>139650215082696Schannel</title>\n",
       "<polygon fill=\"none\" stroke=\"black\" points=\"227.5,-180 157.5,-180 157.5,-144 227.5,-144 227.5,-180\"/>\n",
       "<text text-anchor=\"middle\" x=\"192.5\" y=\"-158.3\" font-family=\"Times,serif\" font-size=\"14.00\">S channel</text>\n",
       "</g>\n",
       "<!-- 139650215082696Schannel&#45;&gt;139651271946368Threshs.t.count=10000(curr=150) -->\n",
       "<g id=\"edge5\" class=\"edge\"><title>139650215082696Schannel&#45;&gt;139651271946368Threshs.t.count=10000(curr=150)</title>\n",
       "<path fill=\"none\" stroke=\"black\" d=\"M179.646,-143.697C173.475,-135.389 165.963,-125.277 159.176,-116.141\"/>\n",
       "<polygon fill=\"black\" stroke=\"black\" points=\"161.979,-114.045 153.206,-108.104 156.36,-118.219 161.979,-114.045\"/>\n",
       "</g>\n",
       "<!-- 139651271920944RGBtoHLS&#45;&gt;139650215082696Schannel -->\n",
       "<g id=\"edge7\" class=\"edge\"><title>139651271920944RGBtoHLS&#45;&gt;139650215082696Schannel</title>\n",
       "<path fill=\"none\" stroke=\"black\" d=\"M225.624,-215.697C220.508,-207.559 214.305,-197.689 208.655,-188.701\"/>\n",
       "<polygon fill=\"black\" stroke=\"black\" points=\"211.536,-186.708 203.251,-180.104 205.61,-190.433 211.536,-186.708\"/>\n",
       "</g>\n",
       "<!-- 139650215083984Lchannel -->\n",
       "<g id=\"node10\" class=\"node\"><title>139650215083984Lchannel</title>\n",
       "<polygon fill=\"none\" stroke=\"black\" points=\"422,-180 351,-180 351,-144 422,-144 422,-180\"/>\n",
       "<text text-anchor=\"middle\" x=\"386.5\" y=\"-158.3\" font-family=\"Times,serif\" font-size=\"14.00\">L channel</text>\n",
       "</g>\n",
       "<!-- 139651271920944RGBtoHLS&#45;&gt;139650215083984Lchannel -->\n",
       "<g id=\"edge8\" class=\"edge\"><title>139651271920944RGBtoHLS&#45;&gt;139650215083984Lchannel</title>\n",
       "<path fill=\"none\" stroke=\"black\" d=\"M273.194,-215.876C293.912,-206.208 319.962,-194.051 341.858,-183.833\"/>\n",
       "<polygon fill=\"black\" stroke=\"black\" points=\"343.379,-186.986 350.96,-179.585 340.418,-180.642 343.379,-186.986\"/>\n",
       "</g>\n",
       "<!-- 139651271948608Threshs.t.count=10000(curr=150) -->\n",
       "<g id=\"node11\" class=\"node\"><title>139651271948608Threshs.t.count=10000(curr=150)</title>\n",
       "<polygon fill=\"none\" stroke=\"gray\" points=\"580,-108 299,-108 299,-72 580,-72 580,-108\"/>\n",
       "<text text-anchor=\"middle\" x=\"439.5\" y=\"-86.3\" font-family=\"italic\" font-size=\"14.00\">Thresh s.t. count=10000 (curr=150)</text>\n",
       "</g>\n",
       "<!-- 139650215083984Lchannel&#45;&gt;139651271948608Threshs.t.count=10000(curr=150) -->\n",
       "<g id=\"edge12\" class=\"edge\"><title>139650215083984Lchannel&#45;&gt;139651271948608Threshs.t.count=10000(curr=150)</title>\n",
       "<path fill=\"none\" stroke=\"black\" d=\"M399.601,-143.697C405.891,-135.389 413.547,-125.277 420.465,-116.141\"/>\n",
       "<polygon fill=\"black\" stroke=\"black\" points=\"423.304,-118.19 426.55,-108.104 417.723,-113.964 423.304,-118.19\"/>\n",
       "</g>\n",
       "<!-- 139651271948608Threshs.t.count=10000(curr=150)&#45;&gt;139651271949112| -->\n",
       "<g id=\"edge10\" class=\"edge\"><title>139651271948608Threshs.t.count=10000(curr=150)&#45;&gt;139651271949112|</title>\n",
       "<path fill=\"none\" stroke=\"black\" d=\"M378.663,-71.9656C342.973,-61.9724 297.709,-49.2984 260.407,-38.8539\"/>\n",
       "<polygon fill=\"black\" stroke=\"black\" points=\"261.183,-35.4368 250.61,-36.1108 259.296,-42.1776 261.183,-35.4368\"/>\n",
       "</g>\n",
       "<!-- 139651271948608Threshs.t.count=10000(curr=150)&#45;&gt;139651271947768ColorJoin -->\n",
       "<g id=\"edge11\" class=\"edge\"><title>139651271948608Threshs.t.count=10000(curr=150)&#45;&gt;139651271947768ColorJoin</title>\n",
       "<path fill=\"none\" stroke=\"black\" d=\"M433.32,-71.6966C430.505,-63.8132 427.109,-54.3042 423.981,-45.5464\"/>\n",
       "<polygon fill=\"black\" stroke=\"black\" points=\"427.268,-44.3446 420.609,-36.1043 420.676,-46.699 427.268,-44.3446\"/>\n",
       "</g>\n",
       "</g>\n",
       "</svg>\n"
      ],
      "text/plain": [
       "<graphviz.dot.Digraph at 0x7f0318717668>"
      ]
     },
     "execution_count": 8,
     "metadata": {},
     "output_type": "execute_result"
    }
   ],
   "source": [
    "pipeline = cf.SimplePipeline()\n",
    "pipeline.getThisSubgraph()"
   ]
  },
  {
   "cell_type": "markdown",
   "metadata": {},
   "source": [
    "This pipeline is fairly simple--we use the saturation channel to detect the yellow left line, and the lightness channel to detect the white right line."
   ]
  },
  {
   "cell_type": "code",
   "execution_count": 5,
   "metadata": {},
   "outputs": [
    {
     "data": {
      "image/png": "[encoded data removed]",
      "text/plain": [
       "<matplotlib.figure.Figure at 0x7f0318e2e438>"
      ]
     },
     "metadata": {},
     "output_type": "display_data"
    }
   ],
   "source": [
    "linePixels = pipeline(frame)\n",
    "color = pipeline.colorOutput.value\n",
    "laneFindingPipeline.utils.show(color, title=pipeline);"
   ]
  },
  {
   "cell_type": "markdown",
   "metadata": {},
   "source": [
    "To find only relevant pixels in each "
   ]
  },
  {
   "cell_type": "code",
   "execution_count": 6,
   "metadata": {
    "scrolled": false
   },
   "outputs": [
    {
     "data": {
      "application/vnd.jupyter.widget-view+json": {
       "model_id": "c9341f0959a54b4aa4296810c5318e96",
       "version_major": 2,
       "version_minor": 0
      },
      "text/html": [
       "<p>Failed to display Jupyter Widget of type <code>HBox</code>.</p>\n",
       "<p>\n",
       "  If you're reading this message in Jupyter Notebook or JupyterLab, it may mean\n",
       "  that the widgets JavaScript is still loading. If this message persists, it\n",
       "  likely means that the widgets JavaScript library is either not installed or\n",
       "  not enabled. See the <a href=\"https://ipywidgets.readthedocs.io/en/stable/user_install.html\">Jupyter\n",
       "  Widgets Documentation</a> for setup instructions.\n",
       "</p>\n",
       "<p>\n",
       "  If you're reading this message in another notebook frontend (for example, a static\n",
       "  rendering on GitHub or <a href=\"https://nbviewer.jupyter.org/\">NBViewer</a>),\n",
       "  it may mean that your frontend doesn't currently support widgets.\n",
       "</p>\n"
      ],
      "text/plain": [
       "HBox(children=(IntProgress(value=0, description='cal. undistort: ', max=20), HTML(value='')))"
      ]
     },
     "metadata": {},
     "output_type": "display_data"
    },
    {
     "name": "stdout",
     "output_type": "stream",
     "text": [
      "\n"
     ]
    }
   ],
   "source": [
    "pipeline = cf.SimplePipeline()\n",
    "nd = pipeline.draw(outType='NodeDigraph')\n",
    "for member in nd._subgraphs['cluster KEY'][0][-1]:\n",
    "    pass#print(member.containingMultistepOp)"
   ]
  },
  {
   "cell_type": "code",
   "execution_count": 7,
   "metadata": {},
   "outputs": [],
   "source": [
    "# Kind = type(self)\n",
    "# subgraphsForThisKind = []\n",
    "# for subgraphsForFocalKind in nd._subgraphs.values():\n",
    "#     subgraph = subgraphsForFocalKind[0]\n",
    "#     name, gvd, nx, members = subgraph\n",
    "#     containers = [\n",
    "#         cont for cont in \n",
    "#         [getattr(member, 'containingMultistepOp', None) for member in members]\n",
    "#         if cont\n",
    "#     ]\n",
    "#     if len(containers) > 0 and all([cont is self for cont in containers]):\n",
    "#         subgraphsForThisKind.append(subgraph)\n",
    "# subgraphsForThisKind"
   ]
  },
  {
   "cell_type": "markdown",
   "metadata": {},
   "source": [
    "# Future work\n",
    "* Use a predictive model for the evolution of the lane lines--e.g., fit a polynomial in time."
   ]
  }
 ],
 "metadata": {
  "kernelspec": {
   "display_name": "Python 3 (no explicit path to executable given)",
   "language": "python",
   "name": "python3"
  },
  "language_info": {
   "codemirror_mode": {
    "name": "ipython",
    "version": 3
   },
   "file_extension": ".py",
   "mimetype": "text/x-python",
   "name": "python",
   "nbconvert_exporter": "python",
   "pygments_lexer": "ipython3",
   "version": "3.5.2"
  }
 },
 "nbformat": 4,
 "nbformat_minor": 2
}
