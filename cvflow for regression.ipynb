{
 "cells": [
  {
   "cell_type": "code",
   "execution_count": null,
   "metadata": {},
   "outputs": [],
   "source": [
    "import numpy as np, matplotlib.pyplot as plt\n",
    "# from importlib import reload\n",
    "import cvflow as cf\n",
    "% matplotlib inline"
   ]
  },
  {
   "cell_type": "code",
   "execution_count": null,
   "metadata": {},
   "outputs": [],
   "source": [
    "import laneFindingPipeline, utils"
   ]
  },
  {
   "cell_type": "code",
   "execution_count": null,
   "metadata": {},
   "outputs": [],
   "source": [
    "show = cf.misc.show"
   ]
  },
  {
   "cell_type": "code",
   "execution_count": null,
   "metadata": {
    "scrolled": false
   },
   "outputs": [],
   "source": [
    "colorFilter = cf.ComplexPipeline()"
   ]
  },
  {
   "cell_type": "code",
   "execution_count": null,
   "metadata": {},
   "outputs": [],
   "source": [
    "laneFinder = laneFindingPipeline.LaneFinder(colorFilter=colorFilter)"
   ]
  },
  {
   "cell_type": "code",
   "execution_count": null,
   "metadata": {},
   "outputs": [],
   "source": [
    "%%time\n",
    "allFrames = laneFindingPipeline.utils.loadFrames()"
   ]
  },
  {
   "cell_type": "code",
   "execution_count": null,
   "metadata": {},
   "outputs": [],
   "source": [
    "frame = allFrames['project'][0]"
   ]
  },
  {
   "cell_type": "code",
   "execution_count": null,
   "metadata": {
    "scrolled": false
   },
   "outputs": [],
   "source": [
    "show(laneFinder.draw(frame));"
   ]
  },
  {
   "cell_type": "code",
   "execution_count": null,
   "metadata": {
    "scrolled": false
   },
   "outputs": [],
   "source": [
    "# %%time\n",
    "# figs = colorFilter.showMembers(subplotKwargs=dict(figsize=(16,9)), wspace=0)\n",
    "# for ext in ('png',):\n",
    "#     for fig in figs:\n",
    "#         label = fig.texts[0].get_text()\n",
    "#         ok = 'abcdefghijklmnopqrstuvwxyz'\n",
    "#         ok += ok.upper() + '01234567890-'\n",
    "#         for ch in label:\n",
    "#             if ch not in ok:\n",
    "#                 label.replace(ch, '_')"
   ]
  },
  {
   "cell_type": "code",
   "execution_count": null,
   "metadata": {},
   "outputs": [],
   "source": [
    "colorFilter.draw(savePath='/tmp/test', format='pdf');"
   ]
  },
  {
   "cell_type": "markdown",
   "metadata": {},
   "source": [
    "Measure frames per second without plotting."
   ]
  },
  {
   "cell_type": "code",
   "execution_count": null,
   "metadata": {
    "scrolled": true
   },
   "outputs": [],
   "source": [
    "%%time\n",
    "import tqdm\n",
    "for frame in tqdm.tqdm_notebook(allFrames['project'][:100], unit='frame'):\n",
    "    laneFinder(frame)"
   ]
  },
  {
   "cell_type": "code",
   "execution_count": null,
   "metadata": {},
   "outputs": [],
   "source": [
    "class VisualizeFilter:\n",
    "    def __call__(self, frame, clearAxes=True, closeFigure=False):\n",
    "        colorFilter(frame)\n",
    "        axes = getattr(self, 'axes', None)\n",
    "        fig = colorFilter.showMembers(\n",
    "            axes=axes, subplotKwargs=dict(figsize=(16,9)), \n",
    "            wspace=0, showMultistepParents=False\n",
    "        )[0]\n",
    "        self.axes = fig.axes\n",
    "        for ax in fig.axes:\n",
    "            cf.misc.clearTicks(ax)\n",
    "        out = utils.fig2img(fig)\n",
    "        if clearAxes:\n",
    "            for ax in fig.axes:\n",
    "                ax.cla()\n",
    "        if closeFigure:\n",
    "            plt.close(fig)\n",
    "        return out\n",
    "    \n",
    "    @property\n",
    "    def fig(self):\n",
    "        return self.axes[0].figure\n",
    "    \n",
    "    def visualizeFromKey(self, k, maxFrames=np.inf):\n",
    "        frames = allFrames[k]\n",
    "        fpath = 'cf-%s-%s-vis' % (colorFilter, k)\n",
    "        if maxFrames < np.inf:\n",
    "            frames = frames[:maxFrames]\n",
    "            fpath += '-%dframes' % maxFrames\n",
    "        fpath += '.mp4'\n",
    "        utils.transformVideo(frames, fpath, visualizePipeline, desc=fpath)\n",
    "        self(frames[-1], clearAxes=False)\n",
    "        \n",
    "    def __del__(self):\n",
    "        if hasattr(self, 'axes'):\n",
    "            plt.close(self.fig)\n",
    "\n",
    "visualizeFilter = VisualizeFilter()"
   ]
  },
  {
   "cell_type": "code",
   "execution_count": null,
   "metadata": {},
   "outputs": [],
   "source": [
    "visualizeFilter.visualizeFromKey('project', maxFrames=2)"
   ]
  },
  {
   "cell_type": "code",
   "execution_count": null,
   "metadata": {},
   "outputs": [],
   "source": [
    "for k in allFrames.keys():\n",
    "    visualizeFilter.visualizeFromKey(k, maxFrames=32)"
   ]
  },
  {
   "cell_type": "code",
   "execution_count": null,
   "metadata": {},
   "outputs": [],
   "source": [
    "%%time\n",
    "vids = {}\n",
    "for k in allFrames.keys():\n",
    "    vids[k] = []\n",
    "    vids[k].append(utils.transformVideo(allFrames[k], 'cf-%s-%s.mp4' % (laneFinder.colorFilter, k), laneFinder.draw, desc=k))\n",
    "    vids[k].append(utils.transformVideo(allFrames[k], 'cf-%s-%s-vis.mp4' % (colorFilter, k), visualizePipeline), desc=k)"
   ]
  },
  {
   "cell_type": "code",
   "execution_count": null,
   "metadata": {},
   "outputs": [],
   "source": [
    "import gc; gc.collect()"
   ]
  },
  {
   "cell_type": "code",
   "execution_count": null,
   "metadata": {},
   "outputs": [],
   "source": [
    "plt.close('all')"
   ]
  },
  {
   "cell_type": "code",
   "execution_count": null,
   "metadata": {},
   "outputs": [],
   "source": [
    "import gc; gc.collect()"
   ]
  },
  {
   "cell_type": "code",
   "execution_count": null,
   "metadata": {},
   "outputs": [],
   "source": [
    "v1"
   ]
  },
  {
   "cell_type": "code",
   "execution_count": null,
   "metadata": {},
   "outputs": [],
   "source": [
    "v1, v2 = vids[k]"
   ]
  },
  {
   "cell_type": "code",
   "execution_count": null,
   "metadata": {},
   "outputs": [],
   "source": [
    "v1"
   ]
  },
  {
   "cell_type": "code",
   "execution_count": null,
   "metadata": {},
   "outputs": [],
   "source": [
    "v2"
   ]
  }
 ],
 "metadata": {
  "kernelspec": {
   "display_name": "Python 3 (no explicit path to executable given)",
   "language": "python",
   "name": "python3"
  },
  "language_info": {
   "codemirror_mode": {
    "name": "ipython",
    "version": 3
   },
   "file_extension": ".py",
   "mimetype": "text/x-python",
   "name": "python",
   "nbconvert_exporter": "python",
   "pygments_lexer": "ipython3",
   "version": "3.5.2"
  }
 },
 "nbformat": 4,
 "nbformat_minor": 2
}
