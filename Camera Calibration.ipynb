{
 "cells": [
  {
   "cell_type": "code",
   "execution_count": null,
   "metadata": {},
   "outputs": [],
   "source": [
    "import numpy as np\n",
    "import cv2\n",
    "import matplotlib.pyplot as plt\n",
    "import matplotlib.image as mpimg\n",
    "import tqdm\n",
    "%matplotlib inline"
   ]
  },
  {
   "cell_type": "code",
   "execution_count": null,
   "metadata": {},
   "outputs": [],
   "source": [
    "fname = 'test_images/lens_chessboard.png'\n",
    "nx = 10\n",
    "ny = 6\n",
    "\n",
    "fname = 'camera_cal/calibration3.jpg'\n",
    "nx = 9\n",
    "ny = 6\n",
    "img = cv2.imread(fname)\n",
    "\n",
    "# Convert to grayscale\n",
    "gray = cv2.cvtColor(img, cv2.COLOR_BGR2GRAY)\n",
    "\n",
    "# Find the chessboard corners\n",
    "ret, corners = cv2.findChessboardCorners(gray, (nx, ny), None)\n",
    "\n",
    "# If found, draw corners\n",
    "if ret == True:\n",
    "    # Draw and display the corners\n",
    "    cv2.drawChessboardCorners(img, (nx, ny), corners, ret)\n",
    "    plt.imshow(img)\n",
    "    plt.gca().set_xticks([])\n",
    "    plt.gca().set_yticks([])\n",
    "    src = corners[[0, nx-1, -nx, -1]].squeeze()\n",
    "    dst = np.zeros_like(src)\n",
    "#     topLeft = src[0]\n",
    "#     botRight = src[-1]\n",
    "#     dst[0, 0] = dst[2, 0] = topLeft[0]\n",
    "#     dst[0, 1] = dst[1, 1] = topLeft[1]\n",
    "#     dst[1, 0] = dst[3, 0] = botRight[0]\n",
    "#     dst[2, 1] = dst[3, 1] = botRight[1]\n",
    "\n",
    "    l = min(src[:, 0]); r = max(src[:, 0])\n",
    "    t = min(src[:, 1]); b = max(src[:, 1])\n",
    "    dst[0, 0] = dst[2, 0] = l\n",
    "    dst[0, 1] = dst[1, 1] = t\n",
    "    dst[1, 0] = dst[3, 0] = r\n",
    "    dst[2, 1] = dst[3, 1] = b\n",
    "#     plt.gca().scatter(src[:, 0], src[:, 1], s=1000, color='red')\n",
    "    plt.gca().scatter(dst[:, 0], src[:, 1], s=1000, color='red')"
   ]
  },
  {
   "cell_type": "code",
   "execution_count": null,
   "metadata": {
    "scrolled": true
   },
   "outputs": [],
   "source": [
    "import glob"
   ]
  },
  {
   "cell_type": "code",
   "execution_count": null,
   "metadata": {},
   "outputs": [],
   "source": [
    "imgPaths = glob.glob('huginn/IMG*.jpg')"
   ]
  },
  {
   "cell_type": "code",
   "execution_count": null,
   "metadata": {},
   "outputs": [],
   "source": [
    "imgPaths = glob.glob('camera_cal/calibration*.jpg')"
   ]
  },
  {
   "cell_type": "code",
   "execution_count": null,
   "metadata": {},
   "outputs": [],
   "source": [
    "class Undistorter(object):\n",
    "    \n",
    "    def __init__(self, nx=7, ny=9):\n",
    "        self.nx = nx\n",
    "        self.ny = ny\n",
    "        \n",
    "        self.singleObjP = np.zeros((nx*ny, 3), np.float32)\n",
    "        self.singleObjP[:, :2] = np.mgrid[0:nx, 0:ny].T.reshape(-1, 2)\n",
    "        \n",
    "    def clearStorage(self):\n",
    "        self.calibrationErrors = []\n",
    "        self.imgp = []\n",
    "        \n",
    "    def fitImg(self, img):\n",
    "        if isinstance(img, str):\n",
    "            img = cv2.imread(img)\n",
    "        gray = cv2.cvtColor(img, cv2.COLOR_BGR2GRAY)\n",
    "        self.imageShape = gray.shape[::-1]\n",
    "        #img = cv2.cvtColor(img, cv2.COLOR_BGR2RGB)\n",
    "        ret, corners = cv2.findChessboardCorners(gray, (self.nx, self.ny), None)\n",
    "        if ret:\n",
    "            self.imgp.append(corners)\n",
    "            \n",
    "    def fit(self, imgs, nerr=0):\n",
    "        self.clearStorage()\n",
    "        if nerr > 4:\n",
    "            raise RuntimeError('cv2.calibrateCamera failed too many times.')\n",
    "        try:\n",
    "            from sklearn.utils import shuffle\n",
    "            for img in tqdm.tqdm_notebook(shuffle(imgs), unit='frame'):\n",
    "                self.fitImg(img)\n",
    "                self.calcParams()\n",
    "                if (\n",
    "                    len(self.calibrationErrors) > 2\n",
    "                    and\n",
    "                    # Aribtrary threshold on rising calibration error.\n",
    "                    self.calibrationErrors[-1] / min(self.calibrationErrors[1:]) > 2\n",
    "                ):\n",
    "                    print('Early termination due to potential overfitting.')\n",
    "                    break\n",
    "        except cv2.error as e:\n",
    "            from warnings import warn\n",
    "            warn('cv2.calibrateCamera raised error; possibly collinear object points? Reshuffling.')\n",
    "            return self.fit(imgs, nerr=nerr+1)\n",
    "        \n",
    "    def calcParams(self):\n",
    "        objp = [self.singleObjP] * len(self.imgp)\n",
    "        ret, self.mtx, self.dist, self.rvecs, self.tvecs = cv2.calibrateCamera(\n",
    "            objp, self.imgp, self.imageShape, None, None\n",
    "        )\n",
    "        self.calibrationErrors.append(ret)\n",
    "        return ret\n",
    "    \n",
    "    def optimalMatrix(self, img):\n",
    "        h,  w = img.shape[:2]\n",
    "        newcameramtx, roi=cv2.getOptimalNewCameraMatrix(\n",
    "            self.mtx, self.dist, (w,h), 1, (w,h)\n",
    "        )\n",
    "        return newcameramtx, roi\n",
    "    \n",
    "    def remap(self, img):\n",
    "        if isinstance(img, str):\n",
    "            img = cv2.imread(img)\n",
    "        h,  w = img.shape[:2]\n",
    "        newcameramtx, roi=cv2.getOptimalNewCameraMatrix(\n",
    "            self.mtx, self.dist, (w,h), 1, (w,h)\n",
    "        )\n",
    "                \n",
    "    def __call__(self, img, optimalRoi=True):\n",
    "        if isinstance(img, str):\n",
    "            img = cv2.imread(img)\n",
    "        if optimalRoi:\n",
    "            newcameramtx, roi = self.optimalMatrix(img)\n",
    "        else:\n",
    "            newcameramtx = self.mtx\n",
    "        dst = cv2.undistort(img, self.mtx, self.dist, None, newcameramtx)\n",
    "        if optimalRoi:\n",
    "            x, y, w, h = roi\n",
    "            dst = dst[y:y+h, x:x+w]\n",
    "        return dst\n",
    "    \n",
    "    def reprojectionErrorPlot(self):\n",
    "        fig, ax = plt.subplots()\n",
    "        ax.plot(self.calibrationErrors)\n",
    "        ax.set_xlabel('number of images')\n",
    "        ax.set_ylabel('calibration RMS re-projection error ');\n",
    "        return fig, ax"
   ]
  },
  {
   "cell_type": "code",
   "execution_count": null,
   "metadata": {
    "scrolled": true
   },
   "outputs": [],
   "source": [
    "undistorter = Undistorter(nx=9, ny=6)\n",
    "undistorter.fit(imgPaths)"
   ]
  },
  {
   "cell_type": "code",
   "execution_count": null,
   "metadata": {},
   "outputs": [],
   "source": [
    "undistorter.reprojectionErrorPlot();"
   ]
  },
  {
   "cell_type": "code",
   "execution_count": null,
   "metadata": {},
   "outputs": [],
   "source": [
    "# plt.imshow(cv2.imread('camera_cal/calibration1.jpg'))"
   ]
  },
  {
   "cell_type": "code",
   "execution_count": null,
   "metadata": {
    "scrolled": false
   },
   "outputs": [],
   "source": [
    "for imgPath in tqdm.tqdm_notebook(imgPaths[3:6]):\n",
    "    dist = cv2.imread(imgPath)\n",
    "    undist = undistorter(imgPath)\n",
    "    fig, axes = plt.subplots(ncols=2)\n",
    "\n",
    "    for ax, img in zip(axes, [dist, undist]):\n",
    "        ax.imshow(img)\n",
    "        ax.set_xticks([]); ax.set_yticks([])\n",
    "    fig.suptitle(imgPath)"
   ]
  },
  {
   "cell_type": "code",
   "execution_count": null,
   "metadata": {},
   "outputs": [],
   "source": [
    "i = 3\n",
    "dist = cv2.imread(imgPaths[i]).mean(-1)\n",
    "# dist = cv2.GaussianBlur(dist,(3,3),0)\n",
    "undist = undistorter(imgPaths[i], optimalRoi=False).mean(-1)\n",
    "fig, ax = plt.subplots()\n",
    "ax.imshow(dist - undist);\n",
    "ax.set_xticks([]); ax.set_yticks([])\n",
    "ax.set_title('distorted (greyscale) minus undistorted (greyscale)');"
   ]
  },
  {
   "cell_type": "markdown",
   "metadata": {},
   "source": [
    "# GoPro \"WellsFargo\""
   ]
  },
  {
   "cell_type": "code",
   "execution_count": null,
   "metadata": {},
   "outputs": [],
   "source": [
    "ls ~/data2/cameraCalibration/*.MP4"
   ]
  },
  {
   "cell_type": "code",
   "execution_count": null,
   "metadata": {},
   "outputs": [],
   "source": [
    "fpath = '/home/tsbertalan/data2/cameraCalibration/GOPR0019.avi'"
   ]
  },
  {
   "cell_type": "code",
   "execution_count": null,
   "metadata": {},
   "outputs": [],
   "source": [
    "import os, sys\n",
    "os.listdir(os.path.dirname(fpath))"
   ]
  },
  {
   "cell_type": "code",
   "execution_count": null,
   "metadata": {},
   "outputs": [],
   "source": [
    "import sys\n",
    "import skvideo.io\n",
    "reader = skvideo.io.FFmpegReader(fpath)"
   ]
  },
  {
   "cell_type": "code",
   "execution_count": null,
   "metadata": {},
   "outputs": [],
   "source": [
    "frames = [f for f in tqdm.tqdm_notebook(reader.nextFrame(), total=reader.inputframenum)]"
   ]
  },
  {
   "cell_type": "code",
   "execution_count": null,
   "metadata": {},
   "outputs": [],
   "source": [
    "undistorter = Undistorter()\n",
    "undistorter.fit(frames[::20])"
   ]
  },
  {
   "cell_type": "code",
   "execution_count": null,
   "metadata": {},
   "outputs": [],
   "source": [
    "undistorter.reprojectionErrorPlot()"
   ]
  },
  {
   "cell_type": "code",
   "execution_count": null,
   "metadata": {},
   "outputs": [],
   "source": [
    "dist = frames[400]\n",
    "udist = undistorter(dist)\n",
    "fig, axes = plt.subplots(ncols=2)\n",
    "for ax, frame, title in zip(axes, [dist, udist], ['original', 'undistorted']):\n",
    "    ax.imshow(frame)\n",
    "    ax.set_xticks([])\n",
    "    ax.set_yticks([])\n",
    "    ax.set_title(title)"
   ]
  },
  {
   "cell_type": "code",
   "execution_count": null,
   "metadata": {},
   "outputs": [],
   "source": [
    "from utils import saveVideo, showVid"
   ]
  },
  {
   "cell_type": "code",
   "execution_count": null,
   "metadata": {
    "scrolled": false
   },
   "outputs": [],
   "source": [
    "saveVideo(frames, 'original.mp4')"
   ]
  },
  {
   "cell_type": "code",
   "execution_count": null,
   "metadata": {},
   "outputs": [],
   "source": [
    "import gc; gc.collect()"
   ]
  },
  {
   "cell_type": "code",
   "execution_count": null,
   "metadata": {},
   "outputs": [],
   "source": [
    "saveVideo(\n",
    "    (undistorter(frame) for frame in frames),\n",
    "    'undist.mp4'\n",
    ")"
   ]
  }
 ],
 "metadata": {
  "kernelspec": {
   "display_name": "Python 3",
   "language": "python",
   "name": "python3"
  },
  "language_info": {
   "codemirror_mode": {
    "name": "ipython",
    "version": 3
   },
   "file_extension": ".py",
   "mimetype": "text/x-python",
   "name": "python",
   "nbconvert_exporter": "python",
   "pygments_lexer": "ipython3",
   "version": "3.5.2"
  }
 },
 "nbformat": 4,
 "nbformat_minor": 2
}
