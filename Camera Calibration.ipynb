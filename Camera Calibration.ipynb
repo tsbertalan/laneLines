{
 "cells": [
  {
   "cell_type": "code",
   "execution_count": null,
   "metadata": {},
   "outputs": [],
   "source": [
    "import numpy as np\n",
    "import cv2\n",
    "import matplotlib.pyplot as plt\n",
    "import matplotlib.image as mpimg\n",
    "import tqdm\n",
    "%matplotlib inline"
   ]
  },
  {
   "cell_type": "code",
   "execution_count": null,
   "metadata": {},
   "outputs": [],
   "source": [
    "fname = 'test_images/lens_chessboard.png'\n",
    "nx = 10\n",
    "ny = 6\n",
    "\n",
    "fname = 'camera_cal/calibration3.jpg'\n",
    "nx = 9\n",
    "ny = 6\n",
    "img = cv2.imread(fname)\n",
    "\n",
    "# Convert to grayscale\n",
    "gray = cv2.cvtColor(img, cv2.COLOR_BGR2GRAY)\n",
    "\n",
    "# Find the chessboard corners\n",
    "ret, corners = cv2.findChessboardCorners(gray, (nx, ny), None)\n",
    "\n",
    "# If found, draw corners\n",
    "if ret == True:\n",
    "    # Draw and display the corners\n",
    "    cv2.drawChessboardCorners(img, (nx, ny), corners, ret)\n",
    "    plt.imshow(img)\n",
    "    plt.gca().set_xticks([])\n",
    "    plt.gca().set_yticks([])\n",
    "    src = corners[[0, nx-1, -nx, -1]].squeeze()\n",
    "    dst = np.zeros_like(src)\n",
    "#     topLeft = src[0]\n",
    "#     botRight = src[-1]\n",
    "#     dst[0, 0] = dst[2, 0] = topLeft[0]\n",
    "#     dst[0, 1] = dst[1, 1] = topLeft[1]\n",
    "#     dst[1, 0] = dst[3, 0] = botRight[0]\n",
    "#     dst[2, 1] = dst[3, 1] = botRight[1]\n",
    "\n",
    "    l = min(src[:, 0]); r = max(src[:, 0])\n",
    "    t = min(src[:, 1]); b = max(src[:, 1])\n",
    "    dst[0, 0] = dst[2, 0] = l\n",
    "    dst[0, 1] = dst[1, 1] = t\n",
    "    dst[1, 0] = dst[3, 0] = r\n",
    "    dst[2, 1] = dst[3, 1] = b\n",
    "#     plt.gca().scatter(src[:, 0], src[:, 1], s=1000, color='red')\n",
    "    plt.gca().scatter(dst[:, 0], src[:, 1], s=1000, color='red')"
   ]
  },
  {
   "cell_type": "code",
   "execution_count": null,
   "metadata": {
    "scrolled": true
   },
   "outputs": [],
   "source": [
    "import glob"
   ]
  },
  {
   "cell_type": "code",
   "execution_count": null,
   "metadata": {},
   "outputs": [],
   "source": [
    "imgPaths = glob.glob('huginn/IMG*.jpg')"
   ]
  },
  {
   "cell_type": "code",
   "execution_count": null,
   "metadata": {},
   "outputs": [],
   "source": [
    "imgPaths = glob.glob('camera_cal/calibration*.jpg')"
   ]
  },
  {
   "cell_type": "code",
   "execution_count": null,
   "metadata": {},
   "outputs": [],
   "source": [
    "class Undistorter(object):\n",
    "    \n",
    "    def __init__(self, nx=7, ny=9):\n",
    "        self.nx = nx\n",
    "        self.ny = ny\n",
    "        \n",
    "        self.singleObjP = np.zeros((nx*ny, 3), np.float32)\n",
    "        self.singleObjP[:, :2] = np.mgrid[0:nx, 0:ny].T.reshape(-1, 2)\n",
    "        \n",
    "        self.imgp = []\n",
    "        \n",
    "    def fitImg(self, img):\n",
    "        if isinstance(img, str):\n",
    "            img = cv2.imread(img)\n",
    "        gray = cv2.cvtColor(img, cv2.COLOR_BGR2GRAY)\n",
    "        self.imageShape = gray.shape[::-1]\n",
    "        #img = cv2.cvtColor(img, cv2.COLOR_BGR2RGB)\n",
    "        ret, corners = cv2.findChessboardCorners(gray, (self.nx, self.ny), None)\n",
    "        if ret:\n",
    "            self.imgp.append(corners)\n",
    "            \n",
    "    def fit(self, imgs):\n",
    "        for img in tqdm.tqdm_notebook(imgs, unit='frame'):\n",
    "            self.fitImg(img)\n",
    "        print('Calibrating camera from found points', end=' ... ')\n",
    "        self.calcParams()\n",
    "        print('done.')\n",
    "        \n",
    "    def calcParams(self):\n",
    "        objp = [self.singleObjP] * len(self.imgp)\n",
    "        self.ret, self.mtx, self.dist, self.rvecs, self.tvecs = cv2.calibrateCamera(\n",
    "            objp, self.imgp, self.imageShape, None, None\n",
    "        )\n",
    "        \n",
    "    def __call__(self, img):\n",
    "        if isinstance(img, str):\n",
    "            img = cv2.imread(img)\n",
    "        return cv2.undistort(img, self.mtx, self.dist, None, self.mtx)"
   ]
  },
  {
   "cell_type": "code",
   "execution_count": null,
   "metadata": {
    "scrolled": false
   },
   "outputs": [],
   "source": [
    "undistorter = Undistorter(nx=9, ny=6)\n",
    "undistorter.fit(imgPaths[:15])"
   ]
  },
  {
   "cell_type": "code",
   "execution_count": null,
   "metadata": {},
   "outputs": [],
   "source": [
    "# plt.imshow(cv2.imread('camera_cal/calibration1.jpg'))"
   ]
  },
  {
   "cell_type": "code",
   "execution_count": null,
   "metadata": {
    "scrolled": false
   },
   "outputs": [],
   "source": [
    "for imgPath in tqdm.tqdm_notebook(imgPaths[3:6]):\n",
    "    dist = cv2.imread(imgPath)\n",
    "    undist = undistorter(imgPath)\n",
    "    fig, axes = plt.subplots(ncols=2)\n",
    "\n",
    "    for ax, img in zip(axes, [dist, undist]):\n",
    "        ax.imshow(img)\n",
    "        ax.set_xticks([]); ax.set_yticks([])\n",
    "    fig.suptitle(imgPath)"
   ]
  },
  {
   "cell_type": "code",
   "execution_count": null,
   "metadata": {},
   "outputs": [],
   "source": [
    "i = 3\n",
    "dist = cv2.imread(imgPaths[i]).mean(-1)\n",
    "# dist = cv2.GaussianBlur(dist,(3,3),0)\n",
    "undist = undistorter(imgPaths[i]).mean(-1)\n",
    "fig, ax = plt.subplots()\n",
    "ax.imshow(dist - undist);\n",
    "ax.set_xticks([]); ax.set_yticks([])\n",
    "ax.set_title('distorted (greyscale) minus undistorted (greyscale)');"
   ]
  },
  {
   "cell_type": "markdown",
   "metadata": {},
   "source": [
    "# GoPro \"WellsFargo\""
   ]
  },
  {
   "cell_type": "code",
   "execution_count": null,
   "metadata": {},
   "outputs": [],
   "source": [
    "ls ~/data2/cameraCalibration/*.MP4"
   ]
  },
  {
   "cell_type": "code",
   "execution_count": null,
   "metadata": {},
   "outputs": [],
   "source": [
    "fpath = '/home/tsbertalan/data2/cameraCalibration/GOPR0019.avi'"
   ]
  },
  {
   "cell_type": "code",
   "execution_count": null,
   "metadata": {},
   "outputs": [],
   "source": [
    "import os, sys\n",
    "os.listdir(os.path.dirname(fpath))"
   ]
  },
  {
   "cell_type": "code",
   "execution_count": null,
   "metadata": {},
   "outputs": [],
   "source": [
    "from IPython.display import HTML\n",
    "def showVid(fpath):\n",
    "    return HTML(\"\"\"\n",
    "    <video width=100%% controls autoplay loop>\n",
    "      <source src=\"%s\" type=\"video/mp4\">\n",
    "    </video>\n",
    "    \"\"\" % fpath)"
   ]
  },
  {
   "cell_type": "code",
   "execution_count": null,
   "metadata": {},
   "outputs": [],
   "source": [
    "import sys\n",
    "import skvideo.io\n",
    "reader = skvideo.io.FFmpegReader(fpath)"
   ]
  },
  {
   "cell_type": "code",
   "execution_count": null,
   "metadata": {},
   "outputs": [],
   "source": [
    "frames = [f for f in tqdm.tqdm_notebook(reader.nextFrame(), total=reader.inputframenum)]"
   ]
  },
  {
   "cell_type": "code",
   "execution_count": null,
   "metadata": {},
   "outputs": [],
   "source": [
    "undistorter = Undistorter()\n",
    "undistorter.fit(frames[::20])"
   ]
  },
  {
   "cell_type": "code",
   "execution_count": null,
   "metadata": {},
   "outputs": [],
   "source": [
    "dist = frames[400]\n",
    "udist = undistorter(dist)\n",
    "fig, axes = plt.subplots(ncols=2)\n",
    "for ax, frame, title in zip(axes, [dist, udist], ['original', 'undistorted']):\n",
    "    ax.imshow(frame)\n",
    "    ax.set_xticks([])\n",
    "    ax.set_yticks([])\n",
    "    ax.set_title(title)"
   ]
  },
  {
   "cell_type": "code",
   "execution_count": null,
   "metadata": {},
   "outputs": [],
   "source": [
    "from utils import saveVideo"
   ]
  },
  {
   "cell_type": "code",
   "execution_count": null,
   "metadata": {
    "scrolled": false
   },
   "outputs": [],
   "source": [
    "saveVideo(frames, 'original.mp4')"
   ]
  },
  {
   "cell_type": "code",
   "execution_count": null,
   "metadata": {},
   "outputs": [],
   "source": [
    "import gc; gc.collect()"
   ]
  },
  {
   "cell_type": "code",
   "execution_count": null,
   "metadata": {},
   "outputs": [],
   "source": [
    "saveVideo(\n",
    "    (undistorter(frame) for frame in frames),\n",
    "    'undist.mp4'\n",
    ")"
   ]
  }
 ],
 "metadata": {
  "kernelspec": {
   "display_name": "Python 3",
   "language": "python",
   "name": "python3"
  },
  "language_info": {
   "codemirror_mode": {
    "name": "ipython",
    "version": 3
   },
   "file_extension": ".py",
   "mimetype": "text/x-python",
   "name": "python",
   "nbconvert_exporter": "python",
   "pygments_lexer": "ipython3",
   "version": "3.5.2"
  }
 },
 "nbformat": 4,
 "nbformat_minor": 2
}
