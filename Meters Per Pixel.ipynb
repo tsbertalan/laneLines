{
 "cells": [
  {
   "cell_type": "code",
   "execution_count": null,
   "metadata": {},
   "outputs": [],
   "source": [
    "import numpy as np, matplotlib.pyplot as plt, cv2, tqdm\n",
    "%matplotlib inline"
   ]
  },
  {
   "cell_type": "code",
   "execution_count": null,
   "metadata": {},
   "outputs": [],
   "source": [
    "from utils import saveVideo, show, drawShape"
   ]
  },
  {
   "cell_type": "code",
   "execution_count": null,
   "metadata": {},
   "outputs": [],
   "source": [
    "import laneFindingPipeline"
   ]
  },
  {
   "cell_type": "code",
   "execution_count": null,
   "metadata": {},
   "outputs": [],
   "source": [
    "# Load video\n",
    "fpath = 'project_video.mp4'\n",
    "import skvideo.io\n",
    "reader = skvideo.io.FFmpegReader(fpath)\n",
    "frames = []\n",
    "for (i, f) in enumerate(tqdm.tqdm_notebook(\n",
    "    reader.nextFrame(), \n",
    "    total=reader.inputframenum,\n",
    ")):\n",
    "    frames.append(f)"
   ]
  },
  {
   "cell_type": "code",
   "execution_count": null,
   "metadata": {},
   "outputs": [],
   "source": [
    "laneFinder = laneFindingPipeline.LaneFinder()"
   ]
  },
  {
   "cell_type": "code",
   "execution_count": null,
   "metadata": {},
   "outputs": [],
   "source": [
    "y = 720\n",
    "\n",
    "bases = [[], []]\n",
    "yall = [[], []]\n",
    "for frame in tqdm.tqdm_notebook(frames[:256], unit='frame'):\n",
    "    warped = laneFinder.preprocess(frame)\n",
    "    left, right = laneFinder.initialDiscovery(warped)\n",
    "    left, right = [\n",
    "        laneFindingPipeline.LaneMarking(points)\n",
    "        for points in (left, right)\n",
    "    ]\n",
    "    \n",
    "    # Extract the lane bases x(y=720).\n",
    "    bases[0].append(left(720))\n",
    "    bases[1].append(right(720))\n",
    "    \n",
    "    yall[0].append(left.y)\n",
    "    yall[1].append(right.y)"
   ]
  },
  {
   "cell_type": "code",
   "execution_count": null,
   "metadata": {},
   "outputs": [],
   "source": [
    "hist2mode = lambda binCounts, binEdges, _: binEdges[np.argmax(binCounts):][:2].mean()"
   ]
  },
  {
   "cell_type": "code",
   "execution_count": null,
   "metadata": {},
   "outputs": [],
   "source": [
    "fig, ax = plt.subplots()\n",
    "nbins = 128\n",
    "\n",
    "alpha = .25\n",
    "    \n",
    "dcolor = 'red'\n",
    "mode = hist2mode(*ax.hist(\n",
    "    np.array(bases[1]) - np.array(bases[0]), \n",
    "    bins=nbins, label='$\\Delta$', alpha=alpha, color=dcolor\n",
    "))\n",
    "ax.axvline(mode, label='$\\Delta$ mode (%.4g)' % mode, color=dcolor)\n",
    "\n",
    "for baselist, label in zip(bases, ['left', 'right']):\n",
    "    ax.hist(baselist, bins=nbins, label=label, alpha=alpha)\n",
    "\n",
    "ax.legend()\n",
    "ax.set_xlabel('x(y=%d) location [pixels]' % y)\n",
    "ax.set_ylabel('count');\n",
    "fig.savefig('doc/laneBaseDifferenceHistogram.png')"
   ]
  },
  {
   "cell_type": "code",
   "execution_count": null,
   "metadata": {},
   "outputs": [],
   "source": [
    "mode"
   ]
  },
  {
   "cell_type": "code",
   "execution_count": null,
   "metadata": {},
   "outputs": [],
   "source": [
    "xm_per_pix = 3.7 / mode"
   ]
  },
  {
   "cell_type": "code",
   "execution_count": null,
   "metadata": {},
   "outputs": [],
   "source": [
    "laneLengths = [[], []]    \n",
    "for i in tqdm.tqdm_notebook(range(len(yall[0]))):\n",
    "    # Extract the lane lengths (spans).\n",
    "    for ll, laney in zip(laneLengths, [yall[0][i], yall[1][i]]):\n",
    "        ypix = set(laney)\n",
    "        ll.append(max(laney) - min(laney))"
   ]
  },
  {
   "cell_type": "code",
   "execution_count": null,
   "metadata": {},
   "outputs": [],
   "source": [
    "fig, ax = plt.subplots()\n",
    "nbins = 32\n",
    "alpha = .1\n",
    "    \n",
    "meanLengths = sum([np.array(ll) for ll in laneLengths]) / len(laneLengths)\n",
    "for ll, label in zip(\n",
    "    [laneLengths[0], laneLengths[1], meanLengths], \n",
    "    ['left', 'right', 'mean']\n",
    "):\n",
    "    ll = np.array(ll)\n",
    "    ll = ll[ll < 715]\n",
    "    a, b, c = ax.hist(ll, bins=nbins, label=label, alpha=alpha)\n",
    "    color = c[0].get_facecolor()[:-1]\n",
    "    mode = hist2mode(a,b,c)\n",
    "    ax.axvline(mode, color=color, label='mode of %ss (%.4g)' % (label, mode))\n",
    "    \n",
    "ax.legend(fontsize=16)\n",
    "ax.set_xlabel('span of pixel y coordinates $y_{max}-y_{min}$ [pixels]')\n",
    "ax.set_ylabel('count');\n",
    "fig.savefig('doc/laneHeightHistogram.png')"
   ]
  },
  {
   "cell_type": "code",
   "execution_count": null,
   "metadata": {},
   "outputs": [],
   "source": [
    "mode"
   ]
  },
  {
   "cell_type": "code",
   "execution_count": null,
   "metadata": {},
   "outputs": [],
   "source": [
    "ym_per_pix = 30 / mode"
   ]
  },
  {
   "cell_type": "code",
   "execution_count": null,
   "metadata": {},
   "outputs": [],
   "source": [
    "frame = frames[400]\n",
    "warped = laneFinder.preprocess(frame)\n",
    "show(warped);"
   ]
  },
  {
   "cell_type": "code",
   "execution_count": null,
   "metadata": {},
   "outputs": [],
   "source": [
    "left, right = laneFinder(frame)"
   ]
  },
  {
   "cell_type": "code",
   "execution_count": null,
   "metadata": {},
   "outputs": [],
   "source": [
    "left.radius, right.radius"
   ]
  },
  {
   "cell_type": "code",
   "execution_count": null,
   "metadata": {},
   "outputs": [],
   "source": [
    "left, right = laneFinder.initialDiscovery(warped)\n",
    "left, right = [\n",
    "    laneFindingPipeline.LaneMarking(points)\n",
    "    for points in (left, right)\n",
    "]"
   ]
  },
  {
   "cell_type": "markdown",
   "metadata": {},
   "source": [
    "How many feet wide does this estimate the lane to be?"
   ]
  },
  {
   "cell_type": "code",
   "execution_count": null,
   "metadata": {},
   "outputs": [],
   "source": [
    "(right.radius - left.radius) * 3.2808"
   ]
  },
  {
   "cell_type": "markdown",
   "metadata": {},
   "source": [
    "Well, it's only about 4x too large -- OOM correct."
   ]
  },
  {
   "cell_type": "code",
   "execution_count": null,
   "metadata": {},
   "outputs": [],
   "source": [
    "centerline = np.mean([left(720), right(720)])\n",
    "metersRightOfCenter = (1280/2 - centerline) * left.xm_per_pix"
   ]
  },
  {
   "cell_type": "markdown",
   "metadata": {},
   "source": [
    "How many feet right of center are we?"
   ]
  },
  {
   "cell_type": "code",
   "execution_count": null,
   "metadata": {},
   "outputs": [],
   "source": [
    "metersRightOfCenter * 3.2808"
   ]
  }
 ],
 "metadata": {
  "kernelspec": {
   "display_name": "Python 3",
   "language": "python",
   "name": "python3"
  },
  "language_info": {
   "codemirror_mode": {
    "name": "ipython",
    "version": 3
   },
   "file_extension": ".py",
   "mimetype": "text/x-python",
   "name": "python",
   "nbconvert_exporter": "python",
   "pygments_lexer": "ipython3",
   "version": "3.5.2"
  }
 },
 "nbformat": 4,
 "nbformat_minor": 2
}
