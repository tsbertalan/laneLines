{
 "cells": [
  {
   "cell_type": "code",
   "execution_count": null,
   "metadata": {},
   "outputs": [],
   "source": [
    "import numpy as np\n",
    "import cv2\n",
    "import matplotlib.pyplot as plt\n",
    "import matplotlib.image as mpimg\n",
    "import tqdm\n",
    "%matplotlib inline"
   ]
  },
  {
   "cell_type": "code",
   "execution_count": null,
   "metadata": {},
   "outputs": [],
   "source": [
    "class Undistorter(object):\n",
    "    \n",
    "    def __init__(self, nx=7, ny=9):\n",
    "        self.nx = nx\n",
    "        self.ny = ny\n",
    "        \n",
    "        self.singleObjP = np.zeros((nx*ny, 3), np.float32)\n",
    "        self.singleObjP[:, :2] = np.mgrid[0:nx, 0:ny].T.reshape(-1, 2)\n",
    "        \n",
    "    def clearStorage(self):\n",
    "        self.calibrationErrors = []\n",
    "        self.imgp = []\n",
    "        \n",
    "    def fitImg(self, img):\n",
    "        if isinstance(img, str):\n",
    "            img = cv2.imread(img)\n",
    "        gray = cv2.cvtColor(img, cv2.COLOR_BGR2GRAY)\n",
    "        self.imageShape = gray.shape[::-1]\n",
    "        #img = cv2.cvtColor(img, cv2.COLOR_BGR2RGB)\n",
    "        ret, corners = cv2.findChessboardCorners(gray, (self.nx, self.ny), None)\n",
    "        if ret:\n",
    "            self.imgp.append(corners)\n",
    "            \n",
    "    def fit(self, imgs, nerr=0, earlyStoppingRatio=None, minImages=20):\n",
    "        self.clearStorage()\n",
    "        from sklearn.utils import shuffle\n",
    "        for img in tqdm.tqdm_notebook(shuffle(imgs), unit='frame'):\n",
    "            self.fitImg(img)\n",
    "            if earlyStoppingRatio is not None and len(self.imgp) > 0:\n",
    "                self.calcParams()\n",
    "            if len(self.calibrationErrors) > minImages and earlyStoppingRatio is not None:\n",
    "                ratio = self.calibrationErrors[-1] / min(self.calibrationErrors)\n",
    "                print(ratio)\n",
    "                # Aribtrary threshold on rising calibration error.\n",
    "                if ratio > earlyStoppingRatio:\n",
    "                    print('Early termination due to potential overfitting.')\n",
    "                    break\n",
    "        if earlyStoppingRatio is None:\n",
    "            self.calcParams()\n",
    "        \n",
    "    def calcParams(self):\n",
    "        objp = [self.singleObjP] * len(self.imgp)\n",
    "        ret, self.mtx, self.dist, self.rvecs, self.tvecs = cv2.calibrateCamera(\n",
    "            objp, self.imgp, self.imageShape, None, None\n",
    "        )\n",
    "        self.calibrationErrors.append(ret)\n",
    "        return ret\n",
    "    \n",
    "    def optimalMatrix(self, img, alpha=1):\n",
    "        h,  w = img.shape[:2]\n",
    "        newcameramtx, roi=cv2.getOptimalNewCameraMatrix(\n",
    "            self.mtx, self.dist, (w,h), alpha, (w,h)\n",
    "        )\n",
    "        return newcameramtx, roi\n",
    "    \n",
    "    def remap(self, img, optimalMatrix=True, cropRoi=False, m1type=cv2.CV_32FC1):\n",
    "        if isinstance(img, str):\n",
    "            img = cv2.imread(img)\n",
    "        \n",
    "        h, w = img.shape[:2]\n",
    "        if optimalMatrix:\n",
    "            newcameramtx, roi = self.optimalMatrix(img)\n",
    "        else:\n",
    "            newcameramtx = self.mtx\n",
    "            \n",
    "        mapx, mapy = cv2.initUndistortRectifyMap(\n",
    "            self.mtx, dist, np.array([]), newcameramtx, (w, h), m1type\n",
    "        )\n",
    "        \n",
    "        dst = cv2.remap(img, mapx, mapy, cv2.INTER_LINEAR)\n",
    "        \n",
    "        if cropRoi:\n",
    "            x, y, w, h = roi\n",
    "            dst = dst[y:y+h, x:x+w]\n",
    "        return dst\n",
    "        \n",
    "                \n",
    "    def __call__(self, img, optimalMatrix=True, cropRoi=False, alpha=1):\n",
    "        if isinstance(img, str):\n",
    "            img = cv2.imread(img)\n",
    "            \n",
    "        if optimalMatrix:\n",
    "            newcameramtx, roi = self.optimalMatrix(img, alpha=alpha)\n",
    "        else:\n",
    "            newcameramtx = self.mtx\n",
    "        dst = cv2.undistort(img, self.mtx, self.dist, None, newcameramtx)\n",
    "        \n",
    "        if cropRoi:\n",
    "            x, y, w, h = roi\n",
    "            dst = dst[y:y+h, x:x+w]\n",
    "        return dst\n",
    "    \n",
    "    def reprojectionErrorPlot(self, **plotKwargs):\n",
    "        fig, ax = plt.subplots()\n",
    "        ax.plot(self.calibrationErrors, **plotKwargs)\n",
    "        ax.set_xlabel('number of images')\n",
    "        ax.set_ylabel('calibration RMS re-projection error ');\n",
    "        return fig, ax"
   ]
  },
  {
   "cell_type": "code",
   "execution_count": null,
   "metadata": {
    "scrolled": true
   },
   "outputs": [],
   "source": [
    "import glob\n",
    "imgPaths = glob.glob('camera_cal/calibration*.jpg')"
   ]
  },
  {
   "cell_type": "code",
   "execution_count": null,
   "metadata": {
    "scrolled": true
   },
   "outputs": [],
   "source": [
    "undistorter = Undistorter(nx=9, ny=6)\n",
    "undistorter.fit(imgPaths)"
   ]
  },
  {
   "cell_type": "code",
   "execution_count": null,
   "metadata": {
    "scrolled": false
   },
   "outputs": [],
   "source": [
    "for imgPath in tqdm.tqdm_notebook(imgPaths[3:5]):\n",
    "    dist = cv2.imread(imgPath)\n",
    "    undist = undistorter(imgPath, cropRoi=True)\n",
    "    fig, axes = plt.subplots(ncols=2)\n",
    "\n",
    "    for ax, img in zip(axes, [dist, undist]):\n",
    "        ax.imshow(img)\n",
    "        ax.set_xticks([]); ax.set_yticks([])\n",
    "    fig.suptitle(imgPath)"
   ]
  },
  {
   "cell_type": "code",
   "execution_count": null,
   "metadata": {},
   "outputs": [],
   "source": [
    "# Doesn't work for arcane cv2 reasons.\n",
    "#undistorter.remap(imgPaths[0], optimalMatrix=True, m1type=cv2.CV_32FC1)"
   ]
  },
  {
   "cell_type": "markdown",
   "metadata": {},
   "source": [
    "# GoPro \"WellsFargo\""
   ]
  },
  {
   "cell_type": "code",
   "execution_count": null,
   "metadata": {},
   "outputs": [],
   "source": [
    "ls ~/data2/cameraCalibration/*.MP4"
   ]
  },
  {
   "cell_type": "code",
   "execution_count": null,
   "metadata": {},
   "outputs": [],
   "source": [
    "fpath = '/home/tsbertalan/data2/cameraCalibration/GOPR0019.avi'"
   ]
  },
  {
   "cell_type": "code",
   "execution_count": null,
   "metadata": {},
   "outputs": [],
   "source": [
    "import os, sys\n",
    "os.listdir(os.path.dirname(fpath))"
   ]
  },
  {
   "cell_type": "code",
   "execution_count": null,
   "metadata": {},
   "outputs": [],
   "source": [
    "import sys\n",
    "import skvideo.io\n",
    "reader = skvideo.io.FFmpegReader(fpath)"
   ]
  },
  {
   "cell_type": "code",
   "execution_count": null,
   "metadata": {},
   "outputs": [],
   "source": [
    "frames = [f for f in tqdm.tqdm_notebook(reader.nextFrame(), total=reader.inputframenum)]"
   ]
  },
  {
   "cell_type": "code",
   "execution_count": null,
   "metadata": {},
   "outputs": [],
   "source": [
    "import utils"
   ]
  },
  {
   "cell_type": "code",
   "execution_count": null,
   "metadata": {},
   "outputs": [],
   "source": [
    "from importlib import reload\n",
    "reload(utils)"
   ]
  },
  {
   "cell_type": "code",
   "execution_count": null,
   "metadata": {
    "scrolled": false
   },
   "outputs": [],
   "source": [
    "utils.saveVideo(frames[::20][:42], 'trainingFrames.mp4')"
   ]
  },
  {
   "cell_type": "code",
   "execution_count": null,
   "metadata": {
    "scrolled": true
   },
   "outputs": [],
   "source": [
    "from sklearn.utils import shuffle\n",
    "undistorter = Undistorter()\n",
    "undistorter.fit(frames[::20][:42], earlyStoppingRatio=2.5)"
   ]
  },
  {
   "cell_type": "code",
   "execution_count": null,
   "metadata": {},
   "outputs": [],
   "source": [
    "def smooth(x, window_len=4, window='flat'):\n",
    "    if window == 'flat': #moving average\n",
    "        w = np.ones(window_len,'d')\n",
    "    else:\n",
    "        w = eval('np.'+window+'(window_len)')\n",
    "\n",
    "    return np.convolve(w/w.sum(), x, mode='valid')\n",
    "\n",
    "fig, ax = undistorter.reprojectionErrorPlot(label='original')\n",
    "unsmoothed = undistorter.calibrationErrors\n",
    "smoothed = smooth(unsmoothed)\n",
    "x = np.linspace(0, len(unsmoothed), len(smoothed))\n",
    "ax.plot(\n",
    "    x,\n",
    "    smoothed, label='smoothed', #marker='o'\n",
    ")\n",
    "ax.legend();\n",
    "smoothed[-1] / min(unsmoothed)\n",
    "\n",
    "fig, ax = plt.subplots()\n",
    "ax.plot(np.array(unsmoothed) / min(unsmoothed), label='unsmoothed')\n",
    "ax.plot(x, smoothed / min(unsmoothed), label='smoothed');\n",
    "ax.legend()\n",
    "ax.set_xlabel('number of images')\n",
    "ax.set_ylabel('ratio to minimum unsmoothed')"
   ]
  },
  {
   "cell_type": "code",
   "execution_count": null,
   "metadata": {
    "scrolled": false
   },
   "outputs": [],
   "source": [
    "dist = frames[400]\n",
    "alpha = 1\n",
    "udist = undistorter(dist, cropRoi=False, alpha=alpha)\n",
    "cropped = undistorter(dist, cropRoi=True, alpha=alpha)\n",
    "fig, axes = plt.subplots(ncols=3)\n",
    "for ax, frame, title in zip(\n",
    "    axes, \n",
    "    [dist, udist, cropped], \n",
    "    ['original', 'undistorted\\n' + r'$\\alpha=%.2g$' % alpha, 'cropped\\n' + r'($\\alpha=%.2g$)' % alpha]\n",
    "):\n",
    "    ax.imshow(frame)\n",
    "    ax.set_xticks([])\n",
    "    ax.set_yticks([])\n",
    "    ax.set_title(title)"
   ]
  },
  {
   "cell_type": "code",
   "execution_count": null,
   "metadata": {},
   "outputs": [],
   "source": [
    "cropped.shape"
   ]
  },
  {
   "cell_type": "code",
   "execution_count": null,
   "metadata": {
    "scrolled": false
   },
   "outputs": [],
   "source": [
    "# utils.saveVideo(frames, 'original.mp4')"
   ]
  },
  {
   "cell_type": "code",
   "execution_count": null,
   "metadata": {},
   "outputs": [],
   "source": [
    "import gc; gc.collect()"
   ]
  },
  {
   "cell_type": "code",
   "execution_count": null,
   "metadata": {},
   "outputs": [],
   "source": [
    "!rm undist.mp4"
   ]
  },
  {
   "cell_type": "code",
   "execution_count": null,
   "metadata": {},
   "outputs": [],
   "source": [
    "inputs = frames[:200]\n",
    "vid = utils.saveVideo(\n",
    "    (undistorter(frame, cropRoi=False, alpha=.5) for frame in inputs),\n",
    "    'undist.mp4',\n",
    "    total=len(inputs),\n",
    ")\n",
    "# Apparently the video needs time to settle in the filesystem. Dropbox?\n",
    "import time\n",
    "time.sleep(4)\n",
    "# vid"
   ]
  },
  {
   "cell_type": "code",
   "execution_count": null,
   "metadata": {},
   "outputs": [],
   "source": [
    "!rm undist.mp4"
   ]
  },
  {
   "cell_type": "code",
   "execution_count": null,
   "metadata": {},
   "outputs": [],
   "source": [
    "vid"
   ]
  }
 ],
 "metadata": {
  "kernelspec": {
   "display_name": "Python 3",
   "language": "python",
   "name": "python3"
  },
  "language_info": {
   "codemirror_mode": {
    "name": "ipython",
    "version": 3
   },
   "file_extension": ".py",
   "mimetype": "text/x-python",
   "name": "python",
   "nbconvert_exporter": "python",
   "pygments_lexer": "ipython3",
   "version": "3.5.2"
  }
 },
 "nbformat": 4,
 "nbformat_minor": 2
}
