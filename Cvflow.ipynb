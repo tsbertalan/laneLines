{
 "cells": [
  {
   "cell_type": "code",
   "execution_count": 1,
   "metadata": {},
   "outputs": [],
   "source": [
    "import numpy as np, matplotlib.pyplot as plt, cv2, tqdm\n",
    "%matplotlib inline\n",
    "\n",
    "from importlib import reload\n",
    "\n",
    "from utils import saveVideo, show, drawShape\n",
    "import cvflow as cf, utils\n",
    "\n",
    "import laneFindingPipeline"
   ]
  },
  {
   "cell_type": "code",
   "execution_count": 2,
   "metadata": {},
   "outputs": [
    {
     "data": {
      "application/vnd.jupyter.widget-view+json": {
       "model_id": "6bb2f20f0c5746e184760887f79fe7bb",
       "version_major": 2,
       "version_minor": 0
      },
      "text/html": [
       "<p>Failed to display Jupyter Widget of type <code>HBox</code>.</p>\n",
       "<p>\n",
       "  If you're reading this message in Jupyter Notebook or JupyterLab, it may mean\n",
       "  that the widgets JavaScript is still loading. If this message persists, it\n",
       "  likely means that the widgets JavaScript library is either not installed or\n",
       "  not enabled. See the <a href=\"https://ipywidgets.readthedocs.io/en/stable/user_install.html\">Jupyter\n",
       "  Widgets Documentation</a> for setup instructions.\n",
       "</p>\n",
       "<p>\n",
       "  If you're reading this message in another notebook frontend (for example, a static\n",
       "  rendering on GitHub or <a href=\"https://nbviewer.jupyter.org/\">NBViewer</a>),\n",
       "  it may mean that your frontend doesn't currently support widgets.\n",
       "</p>\n"
      ],
      "text/plain": [
       "HBox(children=(IntProgress(value=0, description='cal. undistort: ', max=20), HTML(value='')))"
      ]
     },
     "metadata": {},
     "output_type": "display_data"
    },
    {
     "name": "stdout",
     "output_type": "stream",
     "text": [
      "\n"
     ]
    }
   ],
   "source": [
    "undistort = laneFindingPipeline.Undistorter()\n",
    "undistort.fit()"
   ]
  },
  {
   "cell_type": "code",
   "execution_count": 3,
   "metadata": {},
   "outputs": [
    {
     "data": {
      "application/vnd.jupyter.widget-view+json": {
       "model_id": "78dc345b5ae84559aa74c23738bfae50",
       "version_major": 2,
       "version_minor": 0
      },
      "text/html": [
       "<p>Failed to display Jupyter Widget of type <code>HBox</code>.</p>\n",
       "<p>\n",
       "  If you're reading this message in Jupyter Notebook or JupyterLab, it may mean\n",
       "  that the widgets JavaScript is still loading. If this message persists, it\n",
       "  likely means that the widgets JavaScript library is either not installed or\n",
       "  not enabled. See the <a href=\"https://ipywidgets.readthedocs.io/en/stable/user_install.html\">Jupyter\n",
       "  Widgets Documentation</a> for setup instructions.\n",
       "</p>\n",
       "<p>\n",
       "  If you're reading this message in another notebook frontend (for example, a static\n",
       "  rendering on GitHub or <a href=\"https://nbviewer.jupyter.org/\">NBViewer</a>),\n",
       "  it may mean that your frontend doesn't currently support widgets.\n",
       "</p>\n"
      ],
      "text/plain": [
       "HBox(children=(IntProgress(value=0, description='load project: ', max=1260), HTML(value='')))"
      ]
     },
     "metadata": {},
     "output_type": "display_data"
    },
    {
     "name": "stdout",
     "output_type": "stream",
     "text": [
      "\n"
     ]
    }
   ],
   "source": [
    "import skvideo.io\n",
    "\n",
    "videoPrefices = ('project',)# 'challenge', 'harder_challenge')\n",
    "allFrames = {}\n",
    "for videoPrefix in videoPrefices:\n",
    "    fpath = '%s_video.mp4' % videoPrefix\n",
    "    reader = skvideo.io.FFmpegReader(fpath)\n",
    "    frames = []\n",
    "    for f in tqdm.tqdm_notebook(\n",
    "        reader.nextFrame(), \n",
    "        total=reader.inputframenum,\n",
    "        desc='load %s' % videoPrefix,\n",
    "    ):\n",
    "        frames.append(f)\n",
    "    allFrames[videoPrefix] = frames"
   ]
  },
  {
   "cell_type": "code",
   "execution_count": 4,
   "metadata": {},
   "outputs": [],
   "source": [
    "colorFilter = laneFindingPipeline.ColorFilter()\n",
    "perspective = laneFindingPipeline.PerspectiveTransformer()"
   ]
  },
  {
   "cell_type": "code",
   "execution_count": 5,
   "metadata": {},
   "outputs": [
    {
     "data": {
      "image/png": "[encoded data removed]",
      "text/plain": [
       "<matplotlib.figure.Figure at 0x7f468b0bacc0>"
      ]
     },
     "metadata": {},
     "output_type": "display_data"
    }
   ],
   "source": [
    "ieasy = 68\n",
    "easyFrame = allFrames['project'][ieasy]\n",
    "ihard = 1041\n",
    "hardFrame = allFrames['project'][ihard]\n",
    "def get_s(frame):\n",
    "    img = perspective(undistort(frame))\n",
    "    img = cv2.GaussianBlur(img, (5, 5), 0)\n",
    "    hls = cv2.cvtColor(img, cv2.COLOR_RGB2HLS)\n",
    "    return hls[:, :, 2]\n",
    "method = 'HL[S](eq)'\n",
    "#utils.show(hardFrame);\n",
    "fig, (ax, bx) = plt.subplots(ncols=2)\n",
    "utils.show(get_s(easyFrame) > 250, ax=ax, title='frame %d' % ieasy);\n",
    "utils.show(get_s(hardFrame) > 254, ax=bx, title='frame %d' % ihard);"
   ]
  },
  {
   "cell_type": "code",
   "execution_count": 6,
   "metadata": {},
   "outputs": [],
   "source": [
    "frame = easyFrame"
   ]
  },
  {
   "cell_type": "code",
   "execution_count": 7,
   "metadata": {},
   "outputs": [
    {
     "data": {
      "text/plain": [
       "((<matplotlib.figure.Figure at 0x7f46ac5714a8>,\n",
       "  <matplotlib.axes._subplots.AxesSubplot at 0x7f468b0ba6a0>),\n",
       " (720, 1280, 3))"
      ]
     },
     "execution_count": 7,
     "metadata": {},
     "output_type": "execute_result"
    },
    {
     "data": {
      "image/png": "[encoded data removed]",
      "text/plain": [
       "<matplotlib.figure.Figure at 0x7f46ac5714a8>"
      ]
     },
     "metadata": {},
     "output_type": "display_data"
    }
   ],
   "source": [
    "image = cf.baseOps.ColorImage()\n",
    "image.value = frame\n",
    "\n",
    "blur = cf.baseOps.Blur(image, ksize=129)\n",
    "fig, ax = plt.subplots(figsize=(1.6, .9))\n",
    "utils.show(blur.value, ax=ax), blur.value.shape"
   ]
  },
  {
   "cell_type": "code",
   "execution_count": 30,
   "metadata": {},
   "outputs": [
    {
     "data": {
      "image/png": "[encoded data removed]",
      "text/plain": [
       "<matplotlib.figure.Figure at 0x7f4686fdc048>"
      ]
     },
     "metadata": {},
     "output_type": "display_data"
    }
   ],
   "source": [
    "reload(cf)\n",
    "reload(cf.misc)\n",
    "reload(cf.baseOps)\n",
    "reload(cf.compositeOps)\n",
    "\n",
    "\n",
    "simplePipeline = cf.SimplePipeline()\n",
    "simplePipeline(frame)\n",
    "\n",
    "simplePipeline.showValue()"
   ]
  },
  {
   "cell_type": "code",
   "execution_count": 32,
   "metadata": {},
   "outputs": [
    {
     "data": {
      "image/svg+xml": [
       "<?xml version=\"1.0\" encoding=\"UTF-8\" standalone=\"no\"?>\n",
       "<!DOCTYPE svg PUBLIC \"-//W3C//DTD SVG 1.1//EN\"\n",
       " \"http://www.w3.org/Graphics/SVG/1.1/DTD/svg11.dtd\">\n",
       "<!-- Generated by graphviz version 2.38.0 (20140413.2041)\n",
       " -->\n",
       "<!-- Title: %3 Pages: 1 -->\n",
       "<svg width=\"759pt\" height=\"639pt\"\n",
       " viewBox=\"0.00 0.00 759.00 639.00\" xmlns=\"http://www.w3.org/2000/svg\" xmlns:xlink=\"http://www.w3.org/1999/xlink\">\n",
       "<g id=\"graph0\" class=\"graph\" transform=\"scale(1 1) rotate(0) translate(4 635)\">\n",
       "<title>%3</title>\n",
       "<polygon fill=\"white\" stroke=\"none\" points=\"-4,4 -4,-635 755,-635 755,4 -4,4\"/>\n",
       "<g id=\"clust1\" class=\"cluster\"><title>cluster SimplePipeline</title>\n",
       "<polygon fill=\"none\" stroke=\"black\" points=\"8,-8 8,-587 743,-587 743,-8 8,-8\"/>\n",
       "<text text-anchor=\"middle\" x=\"375.5\" y=\"-571.8\" font-family=\"Times,serif\" font-size=\"14.00\">SimplePipeline</text>\n",
       "</g>\n",
       "<!-- 139940956110800SimplePipeline -->\n",
       "<g id=\"node1\" class=\"node\"><title>139940956110800SimplePipeline</title>\n",
       "<ellipse fill=\"none\" stroke=\"black\" cx=\"375\" cy=\"-34\" rx=\"64.9885\" ry=\"18\"/>\n",
       "<text text-anchor=\"middle\" x=\"375\" y=\"-30.3\" font-family=\"Times,serif\" font-size=\"14.00\">SimplePipeline</text>\n",
       "</g>\n",
       "<!-- 139940889215216Count=10000threshold(tol200;current163).|Count=10000threshold(tol200;current187). -->\n",
       "<g id=\"node2\" class=\"node\"><title>139940889215216Count=10000threshold(tol200;current163).|Count=10000threshold(tol200;current187).</title>\n",
       "<polygon fill=\"none\" stroke=\"black\" points=\"642,-124 108,-124 108,-88 642,-88 642,-124\"/>\n",
       "<text text-anchor=\"middle\" x=\"375\" y=\"-102.3\" font-family=\"Times,serif\" font-size=\"14.00\">Count=10000 threshold (tol 200; current 163). | Count=10000 threshold (tol 200; current 187).</text>\n",
       "</g>\n",
       "<!-- 139940889215216Count=10000threshold(tol200;current163).|Count=10000threshold(tol200;current187).&#45;&gt;139940956110800SimplePipeline -->\n",
       "<g id=\"edge1\" class=\"edge\"><title>139940889215216Count=10000threshold(tol200;current163).|Count=10000threshold(tol200;current187).&#45;&gt;139940956110800SimplePipeline</title>\n",
       "<path fill=\"none\" stroke=\"black\" d=\"M375,-87.6966C375,-79.9827 375,-70.7125 375,-62.1124\"/>\n",
       "<polygon fill=\"black\" stroke=\"black\" points=\"378.5,-62.1043 375,-52.1043 371.5,-62.1044 378.5,-62.1043\"/>\n",
       "</g>\n",
       "<!-- 139940889217400Count=10000threshold(tol200;current163). -->\n",
       "<g id=\"node3\" class=\"node\"><title>139940889217400Count=10000threshold(tol200;current163).</title>\n",
       "<ellipse fill=\"none\" stroke=\"grey\" stroke-dasharray=\"5,2\" cx=\"191\" cy=\"-178\" rx=\"175.469\" ry=\"18\"/>\n",
       "<text text-anchor=\"middle\" x=\"191\" y=\"-174.3\" font-family=\"Times,serif\" font-size=\"14.00\">Count=10000 threshold (tol 200; current 163).</text>\n",
       "</g>\n",
       "<!-- 139940889217400Count=10000threshold(tol200;current163).&#45;&gt;139940889215216Count=10000threshold(tol200;current163).|Count=10000threshold(tol200;current187). -->\n",
       "<g id=\"edge2\" class=\"edge\"><title>139940889217400Count=10000threshold(tol200;current163).&#45;&gt;139940889215216Count=10000threshold(tol200;current163).|Count=10000threshold(tol200;current187).</title>\n",
       "<path fill=\"none\" stroke=\"black\" d=\"M234.605,-160.411C260.368,-150.61 293.208,-138.117 320.648,-127.677\"/>\n",
       "<polygon fill=\"black\" stroke=\"black\" points=\"322.006,-130.906 330.108,-124.078 319.517,-124.363 322.006,-130.906\"/>\n",
       "</g>\n",
       "<!-- 139940889217624channel1 -->\n",
       "<g id=\"node4\" class=\"node\"><title>139940889217624channel1</title>\n",
       "<ellipse fill=\"none\" stroke=\"grey\" cx=\"256\" cy=\"-250\" rx=\"44.6926\" ry=\"18\"/>\n",
       "<text text-anchor=\"middle\" x=\"256\" y=\"-246.3\" font-family=\"Times,serif\" font-size=\"14.00\">channel 1</text>\n",
       "</g>\n",
       "<!-- 139940889217624channel1&#45;&gt;139940889217400Count=10000threshold(tol200;current163). -->\n",
       "<g id=\"edge3\" class=\"edge\"><title>139940889217624channel1&#45;&gt;139940889217400Count=10000threshold(tol200;current163).</title>\n",
       "<path fill=\"none\" stroke=\"black\" d=\"M240.924,-232.765C232.875,-224.096 222.802,-213.248 213.815,-203.57\"/>\n",
       "<polygon fill=\"black\" stroke=\"black\" points=\"216.27,-201.07 206.901,-196.124 211.141,-205.833 216.27,-201.07\"/>\n",
       "</g>\n",
       "<!-- 139940889217736AsColor -->\n",
       "<g id=\"node5\" class=\"node\"><title>139940889217736AsColor</title>\n",
       "<ellipse fill=\"none\" stroke=\"red\" cx=\"310\" cy=\"-322\" rx=\"40.0939\" ry=\"18\"/>\n",
       "<text text-anchor=\"middle\" x=\"310\" y=\"-318.3\" font-family=\"Times,serif\" font-size=\"14.00\">AsColor</text>\n",
       "</g>\n",
       "<!-- 139940889217736AsColor&#45;&gt;139940889217624channel1 -->\n",
       "<g id=\"edge4\" class=\"edge\"><title>139940889217736AsColor&#45;&gt;139940889217624channel1</title>\n",
       "<path fill=\"none\" stroke=\"black\" d=\"M297.476,-304.765C290.825,-296.143 282.51,-285.365 275.075,-275.727\"/>\n",
       "<polygon fill=\"black\" stroke=\"black\" points=\"277.711,-273.413 268.831,-267.633 272.168,-277.689 277.711,-273.413\"/>\n",
       "</g>\n",
       "<!-- 139940889216112channel2 -->\n",
       "<g id=\"node6\" class=\"node\"><title>139940889216112channel2</title>\n",
       "<ellipse fill=\"none\" stroke=\"grey\" cx=\"494\" cy=\"-250\" rx=\"44.6926\" ry=\"18\"/>\n",
       "<text text-anchor=\"middle\" x=\"494\" y=\"-246.3\" font-family=\"Times,serif\" font-size=\"14.00\">channel 2</text>\n",
       "</g>\n",
       "<!-- 139940889217736AsColor&#45;&gt;139940889216112channel2 -->\n",
       "<g id=\"edge5\" class=\"edge\"><title>139940889217736AsColor&#45;&gt;139940889216112channel2</title>\n",
       "<path fill=\"none\" stroke=\"black\" d=\"M339.563,-309.753C370.26,-298.075 418.515,-279.717 452.912,-266.631\"/>\n",
       "<polygon fill=\"black\" stroke=\"black\" points=\"454.561,-269.749 462.663,-262.922 452.072,-263.206 454.561,-269.749\"/>\n",
       "</g>\n",
       "<!-- 139940889215832Count=10000threshold(tol200;current187). -->\n",
       "<g id=\"node7\" class=\"node\"><title>139940889215832Count=10000threshold(tol200;current187).</title>\n",
       "<ellipse fill=\"none\" stroke=\"grey\" stroke-dasharray=\"5,2\" cx=\"560\" cy=\"-178\" rx=\"175.469\" ry=\"18\"/>\n",
       "<text text-anchor=\"middle\" x=\"560\" y=\"-174.3\" font-family=\"Times,serif\" font-size=\"14.00\">Count=10000 threshold (tol 200; current 187).</text>\n",
       "</g>\n",
       "<!-- 139940889216112channel2&#45;&gt;139940889215832Count=10000threshold(tol200;current187). -->\n",
       "<g id=\"edge6\" class=\"edge\"><title>139940889216112channel2&#45;&gt;139940889215832Count=10000threshold(tol200;current187).</title>\n",
       "<path fill=\"none\" stroke=\"black\" d=\"M509.308,-232.765C517.481,-224.096 527.709,-213.248 536.834,-203.57\"/>\n",
       "<polygon fill=\"black\" stroke=\"black\" points=\"539.541,-205.801 543.855,-196.124 534.448,-200.999 539.541,-205.801\"/>\n",
       "</g>\n",
       "<!-- 139940889215832Count=10000threshold(tol200;current187).&#45;&gt;139940889215216Count=10000threshold(tol200;current163).|Count=10000threshold(tol200;current187). -->\n",
       "<g id=\"edge7\" class=\"edge\"><title>139940889215832Count=10000threshold(tol200;current187).&#45;&gt;139940889215216Count=10000threshold(tol200;current163).|Count=10000threshold(tol200;current187).</title>\n",
       "<path fill=\"none\" stroke=\"black\" d=\"M516.158,-160.411C490.255,-150.61 457.237,-138.117 429.648,-127.677\"/>\n",
       "<polygon fill=\"black\" stroke=\"black\" points=\"430.727,-124.344 420.136,-124.078 428.25,-130.891 430.727,-124.344\"/>\n",
       "</g>\n",
       "<!-- 139940889217344ConvertfromRGBtoHLS. -->\n",
       "<g id=\"node8\" class=\"node\"><title>139940889217344ConvertfromRGBtoHLS.</title>\n",
       "<ellipse fill=\"none\" stroke=\"black\" cx=\"310\" cy=\"-394\" rx=\"110.48\" ry=\"18\"/>\n",
       "<text text-anchor=\"middle\" x=\"310\" y=\"-390.3\" font-family=\"Times,serif\" font-size=\"14.00\">Convert from RGB to HLS.</text>\n",
       "</g>\n",
       "<!-- 139940889217344ConvertfromRGBtoHLS.&#45;&gt;139940889217736AsColor -->\n",
       "<g id=\"edge8\" class=\"edge\"><title>139940889217344ConvertfromRGBtoHLS.&#45;&gt;139940889217736AsColor</title>\n",
       "<path fill=\"none\" stroke=\"black\" d=\"M310,-375.697C310,-367.983 310,-358.712 310,-350.112\"/>\n",
       "<polygon fill=\"black\" stroke=\"black\" points=\"313.5,-350.104 310,-340.104 306.5,-350.104 313.5,-350.104\"/>\n",
       "</g>\n",
       "<!-- 139940889218912Blurwithwidth&#45;5kernel. -->\n",
       "<g id=\"node9\" class=\"node\"><title>139940889218912Blurwithwidth&#45;5kernel.</title>\n",
       "<ellipse fill=\"none\" stroke=\"black\" cx=\"310\" cy=\"-466\" rx=\"100.983\" ry=\"18\"/>\n",
       "<text text-anchor=\"middle\" x=\"310\" y=\"-462.3\" font-family=\"Times,serif\" font-size=\"14.00\">Blur with width&#45;5 kernel.</text>\n",
       "</g>\n",
       "<!-- 139940889218912Blurwithwidth&#45;5kernel.&#45;&gt;139940889217344ConvertfromRGBtoHLS. -->\n",
       "<g id=\"edge9\" class=\"edge\"><title>139940889218912Blurwithwidth&#45;5kernel.&#45;&gt;139940889217344ConvertfromRGBtoHLS.</title>\n",
       "<path fill=\"none\" stroke=\"black\" d=\"M310,-447.697C310,-439.983 310,-430.712 310,-422.112\"/>\n",
       "<polygon fill=\"black\" stroke=\"black\" points=\"313.5,-422.104 310,-412.104 306.5,-422.104 313.5,-422.104\"/>\n",
       "</g>\n",
       "<!-- 139941516452192Perspective -->\n",
       "<g id=\"node10\" class=\"node\"><title>139941516452192Perspective</title>\n",
       "<ellipse fill=\"none\" stroke=\"black\" cx=\"310\" cy=\"-538\" rx=\"51.1914\" ry=\"18\"/>\n",
       "<text text-anchor=\"middle\" x=\"310\" y=\"-534.3\" font-family=\"Times,serif\" font-size=\"14.00\">Perspective</text>\n",
       "</g>\n",
       "<!-- 139941516452192Perspective&#45;&gt;139940889218912Blurwithwidth&#45;5kernel. -->\n",
       "<g id=\"edge10\" class=\"edge\"><title>139941516452192Perspective&#45;&gt;139940889218912Blurwithwidth&#45;5kernel.</title>\n",
       "<path fill=\"none\" stroke=\"black\" d=\"M310,-519.697C310,-511.983 310,-502.712 310,-494.112\"/>\n",
       "<polygon fill=\"black\" stroke=\"black\" points=\"313.5,-494.104 310,-484.104 306.5,-494.104 313.5,-494.104\"/>\n",
       "</g>\n",
       "<!-- 139941383594728ColorImage -->\n",
       "<g id=\"node11\" class=\"node\"><title>139941383594728ColorImage</title>\n",
       "<polygon fill=\"none\" stroke=\"red\" points=\"351,-631 269,-631 269,-595 351,-595 351,-631\"/>\n",
       "<text text-anchor=\"middle\" x=\"310\" y=\"-609.3\" font-family=\"Times,serif\" font-size=\"14.00\">ColorImage</text>\n",
       "</g>\n",
       "<!-- 139941383594728ColorImage&#45;&gt;139941516452192Perspective -->\n",
       "<g id=\"edge11\" class=\"edge\"><title>139941383594728ColorImage&#45;&gt;139941516452192Perspective</title>\n",
       "<path fill=\"none\" stroke=\"black\" d=\"M310,-594.7C310,-586.245 310,-575.869 310,-566.373\"/>\n",
       "<polygon fill=\"black\" stroke=\"black\" points=\"313.5,-566.176 310,-556.176 306.5,-566.176 313.5,-566.176\"/>\n",
       "</g>\n",
       "</g>\n",
       "</svg>\n"
      ],
      "text/plain": [
       "<graphviz.dot.Digraph at 0x7f4687248320>"
      ]
     },
     "execution_count": 32,
     "metadata": {},
     "output_type": "execute_result"
    }
   ],
   "source": [
    "gv = simplePipeline.draw()\n",
    "gv"
   ]
  }
 ],
 "metadata": {
  "kernelspec": {
   "display_name": "Python 3 (no explicit path to executable given)",
   "language": "python",
   "name": "python3"
  },
  "language_info": {
   "codemirror_mode": {
    "name": "ipython",
    "version": 3
   },
   "file_extension": ".py",
   "mimetype": "text/x-python",
   "name": "python",
   "nbconvert_exporter": "python",
   "pygments_lexer": "ipython3",
   "version": "3.5.2"
  }
 },
 "nbformat": 4,
 "nbformat_minor": 2
}
