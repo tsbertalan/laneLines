{
 "cells": [
  {
   "cell_type": "code",
   "execution_count": null,
   "metadata": {},
   "outputs": [],
   "source": [
    "import numpy as np, matplotlib.pyplot as plt, cv2, tqdm\n",
    "%matplotlib inline"
   ]
  },
  {
   "cell_type": "code",
   "execution_count": null,
   "metadata": {},
   "outputs": [],
   "source": [
    "from importlib import reload"
   ]
  },
  {
   "cell_type": "code",
   "execution_count": null,
   "metadata": {},
   "outputs": [],
   "source": [
    "from utils import saveVideo, show, drawShape"
   ]
  },
  {
   "cell_type": "code",
   "execution_count": null,
   "metadata": {},
   "outputs": [],
   "source": [
    "import laneFindingPipeline"
   ]
  },
  {
   "cell_type": "code",
   "execution_count": null,
   "metadata": {},
   "outputs": [],
   "source": [
    "undistort = laneFindingPipeline.Undistorter()"
   ]
  },
  {
   "cell_type": "code",
   "execution_count": null,
   "metadata": {},
   "outputs": [],
   "source": [
    "from glob import glob\n",
    "undistort.fit(glob('camera_cal/*.jpg'))"
   ]
  },
  {
   "cell_type": "code",
   "execution_count": null,
   "metadata": {},
   "outputs": [],
   "source": [
    "# Load video\n",
    "fpath = 'project_video.mp4'\n",
    "import skvideo.io\n",
    "reader = skvideo.io.FFmpegReader(fpath)\n",
    "frames = []\n",
    "for (i, f) in enumerate(tqdm.tqdm_notebook(\n",
    "    reader.nextFrame(), \n",
    "    total=reader.inputframenum,\n",
    ")):\n",
    "    frames.append(f)"
   ]
  },
  {
   "cell_type": "code",
   "execution_count": null,
   "metadata": {},
   "outputs": [],
   "source": [
    "show(frames[-1]);"
   ]
  },
  {
   "cell_type": "code",
   "execution_count": null,
   "metadata": {},
   "outputs": [],
   "source": [
    "fig, axes = plt.subplots(ncols=3, figsize=(12, 3))\n",
    "dist = cv2.imread('camera_cal/calibration3.jpg')\n",
    "undist = undistort(dist)\n",
    "show(dist, axes[0], r'distorted $\\rightarrow$')\n",
    "show(undist, axes[1], r'undistorted $\\rightarrow$')\n",
    "show(laneFindingPipeline.transformChessboard(undist), axes[2], 'perspective warped')\n",
    "fig.savefig('undistorted.png')"
   ]
  },
  {
   "cell_type": "markdown",
   "metadata": {},
   "source": [
    "Set parameters for perspective transform."
   ]
  },
  {
   "cell_type": "code",
   "execution_count": null,
   "metadata": {},
   "outputs": [],
   "source": [
    "reload(laneFindingPipeline)"
   ]
  },
  {
   "cell_type": "code",
   "execution_count": null,
   "metadata": {},
   "outputs": [],
   "source": [
    "perspective = laneFindingPipeline.PerspectiveTransformer()"
   ]
  },
  {
   "cell_type": "code",
   "execution_count": null,
   "metadata": {},
   "outputs": [],
   "source": [
    "dist = frames[500]\n",
    "fig, axes = plt.subplots(ncols=3, figsize=(12, 3))\n",
    "undist = undistort(dist)\n",
    "show(dist, axes[0], r'distorted $\\rightarrow$')\n",
    "show(drawShape(undist, perspective.src), axes[1], r'undistorted $\\rightarrow$')\n",
    "\n",
    "show(drawShape(perspective(undist), perspective.dst), axes[2], 'perspective')\n",
    "fig.savefig('undistorted-road.png')"
   ]
  },
  {
   "cell_type": "code",
   "execution_count": null,
   "metadata": {},
   "outputs": [],
   "source": [
    "vid = saveVideo((\n",
    "    drawShape(thresholds(perspective(undistort(frame)), color=True), perspective.dst)\n",
    "    for frame in tqdm.tqdm_notebook(frames, unit='frame', desc='transforming')\n",
    "), 'perspectiveTransformed.mp4', total=len(frames))\n",
    "vid"
   ]
  },
  {
   "cell_type": "code",
   "execution_count": null,
   "metadata": {},
   "outputs": [],
   "source": [
    "cmf = laneFindingPipeline.ConvolutionalMarkingFinder()\n",
    "\n",
    "index = 0\n",
    "img = thresholds(perspective(undistort(frames[index])))\n",
    "cmf.show(img)"
   ]
  },
  {
   "cell_type": "markdown",
   "metadata": {},
   "source": [
    "It looks like solid and dashed markings can be distinguished by their histograms. This might be something to investigate later."
   ]
  },
  {
   "cell_type": "code",
   "execution_count": null,
   "metadata": {},
   "outputs": [],
   "source": [
    "fig, ax = plt.subplots()\n",
    "left, right = cmf(img)\n",
    "for points, label in zip([left, right], ['left', 'right']):\n",
    "    ax.hist(points[1, :], bins=64, alpha=.5, label=label)\n",
    "ax.legend()\n",
    "ax.set_xlabel('$y$')\n",
    "ax.set_ylabel('count');"
   ]
  },
  {
   "cell_type": "code",
   "execution_count": null,
   "metadata": {},
   "outputs": [],
   "source": [
    "left, right = cmf(img)\n",
    "left = laneFindingPipeline.LaneMarking(left)\n",
    "right = laneFindingPipeline.LaneMarking(right)\n",
    "\n",
    "fig, ax = show(img)\n",
    "left.show(ax)\n",
    "right.show(ax)\n",
    "ax.set_xlim(0, img.shape[1])\n",
    "ax.set_ylim(img.shape[0], 0);"
   ]
  },
  {
   "cell_type": "code",
   "execution_count": null,
   "metadata": {},
   "outputs": [],
   "source": [
    "laneFinder = laneFindingPipeline.LaneFinder(undistort=undistort)\n",
    "laneFinder.show(frames[0]);"
   ]
  },
  {
   "cell_type": "code",
   "execution_count": null,
   "metadata": {},
   "outputs": [],
   "source": [
    "laneFinder.show(frames[1]);"
   ]
  },
  {
   "cell_type": "code",
   "execution_count": null,
   "metadata": {},
   "outputs": [],
   "source": [
    "import utils\n",
    "\n",
    "laneFinder = laneFindingPipeline.LaneFinder(undistort)\n",
    "fig, axes = plt.subplots(nrows=2)\n",
    "def inputs():\n",
    "    for frame in frames:\n",
    "        laneFinder.show(frame, axes=axes)\n",
    "        yield utils.fig2img(fig)\n",
    "        for ax in axes:\n",
    "            ax.clear()\n",
    "vid = saveVideo(inputs(), 'laneFits.mp4', total=len(frames))\n",
    "fig.clf()\n",
    "del fig\n",
    "vid"
   ]
  },
  {
   "cell_type": "markdown",
   "metadata": {},
   "source": [
    "Measure FPS without plotting."
   ]
  },
  {
   "cell_type": "code",
   "execution_count": null,
   "metadata": {},
   "outputs": [],
   "source": [
    "%%time\n",
    "laneFinder = laneFindingPipeline.LaneFinder(undistort)\n",
    "for frame in tqdm.tqdm_notebook(frames[:100], unit='frame'):\n",
    "    laneFinder(frame)"
   ]
  }
 ],
 "metadata": {
  "kernelspec": {
   "display_name": "Python 3",
   "language": "python",
   "name": "python3"
  },
  "language_info": {
   "codemirror_mode": {
    "name": "ipython",
    "version": 3
   },
   "file_extension": ".py",
   "mimetype": "text/x-python",
   "name": "python",
   "nbconvert_exporter": "python",
   "pygments_lexer": "ipython3",
   "version": "3.5.2"
  }
 },
 "nbformat": 4,
 "nbformat_minor": 2
}
